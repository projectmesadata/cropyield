{
 "cells": [
  {
   "cell_type": "code",
   "execution_count": 1,
   "metadata": {},
   "outputs": [
    {
     "data": {
      "text/html": [
       "<script>\n",
       "    // AUTORUN ALL CELLS ON NOTEBOOK-LOAD!\n",
       "    require(\n",
       "        ['base/js/namespace', 'jquery'], \n",
       "        function(jupyter, $) {\n",
       "            $(jupyter.events).on(\"kernel_ready.Kernel\", function () {\n",
       "                console.log(\"Auto-running all cells-below...\");\n",
       "                jupyter.actions.call('jupyter-notebook:run-all-cells-below');\n",
       "                jupyter.notebook.scroll_to_top();\n",
       "                jupyter.actions.call('jupyter-notebook:save-notebook');                \n",
       "                \n",
       "            });\n",
       "        });\n",
       "        \n",
       "        $( document ).ready(function(){\n",
       "        code_shown=false;\n",
       "        $('div.input').hide()});\n",
       "    \n",
       "    \n",
       "</script>\n"
      ],
      "text/plain": [
       "<IPython.core.display.HTML object>"
      ]
     },
     "metadata": {},
     "output_type": "display_data"
    }
   ],
   "source": [
    "%%html\n",
    "<script>\n",
    "    // AUTORUN ALL CELLS ON NOTEBOOK-LOAD!\n",
    "    require(\n",
    "        ['base/js/namespace', 'jquery'], \n",
    "        function(jupyter, $) {\n",
    "            $(jupyter.events).on(\"kernel_ready.Kernel\", function () {\n",
    "                console.log(\"Auto-running all cells-below...\");\n",
    "                jupyter.actions.call('jupyter-notebook:run-all-cells-below');\n",
    "                jupyter.notebook.scroll_to_top();\n",
    "                jupyter.actions.call('jupyter-notebook:save-notebook');                \n",
    "                \n",
    "            });\n",
    "        });\n",
    "        \n",
    "        $( document ).ready(function(){\n",
    "        code_shown=false;\n",
    "        $('div.input').hide()});\n",
    "    \n",
    "    \n",
    "</script>\n"
   ]
  },
  {
   "cell_type": "markdown",
   "metadata": {},
   "source": [
    "# Overview \n",
    "\n",
    "\n",
    "This script provides the water satisification requirement index (WSRI) over a given region for a specifc time. It uses the downloaded [Famine Land Data Assimilation System](https://ldas.gsfc.nasa.gov/FLDAS/) (FLDAS)* data which can be acquired through the Crop Yield Data Download script. \n",
    "\n",
    "\\**McNally, A., Arsenault, K., Kumar, S., Shukla, S., Peterson, P., Wang, S., Funk, C., Peters-Lidard, C.D., & Verdin, J. P. (2017). A land data assimilation system for sub-Saharan Africa food and water security applications. Scientific Data, 4, 170012*\n"
   ]
  },
  {
   "cell_type": "markdown",
   "metadata": {},
   "source": [
    "## 0: The Dependencies\n",
    "\n",
    "This cell imports the python dependencies we use to download the data. It has already run. If you want to know which dependencies this code is using click Hide/Show Code. If you click the run cell button, the buttons for this cell will disappear."
   ]
  },
  {
   "cell_type": "code",
   "execution_count": 2,
   "metadata": {
    "code_folding": []
   },
   "outputs": [
    {
     "data": {
      "text/html": [
       "\n",
       "    <script>\n",
       "    function code_toggle() {\n",
       "        if ($('div.cell.code_cell.rendered.selected div.input').css('display') !='none'){\n",
       "            $('div.cell.code_cell.rendered.selected div.input').hide('500');\n",
       "        } else {\n",
       "            $('div.cell.code_cell.rendered.selected div.input').show('500');\n",
       "            \n",
       "        }\n",
       "        \n",
       "    }\n",
       "    </script>\n",
       "\n",
       "\n",
       "<form action=\"javascript:code_toggle()\"><input type=\"submit\" id=\"toggleButton\" value=\"Hide/Show Code\"></form>\n"
      ],
      "text/plain": [
       "<IPython.core.display.HTML object>"
      ]
     },
     "metadata": {},
     "output_type": "display_data"
    },
    {
     "data": {
      "text/html": [
       "\n",
       "<form action=\"javascript:Jupyter.notebook.execute_cell()\"><input type =\"submit\" id=\"runButton\" value=\"Run Cell\"></form>\n"
      ],
      "text/plain": [
       "<IPython.core.display.HTML object>"
      ]
     },
     "metadata": {},
     "output_type": "display_data"
    },
    {
     "data": {
      "text/html": [
       "\n",
       "    <div class=\"bk-root\">\n",
       "        <a href=\"https://bokeh.org\" target=\"_blank\" class=\"bk-logo bk-logo-small bk-logo-notebook\"></a>\n",
       "        <span id=\"1003\">Loading BokehJS ...</span>\n",
       "    </div>"
      ]
     },
     "metadata": {},
     "output_type": "display_data"
    },
    {
     "data": {
      "application/javascript": [
       "\n",
       "(function(root) {\n",
       "  function now() {\n",
       "    return new Date();\n",
       "  }\n",
       "\n",
       "  var force = true;\n",
       "\n",
       "  if (typeof root._bokeh_onload_callbacks === \"undefined\" || force === true) {\n",
       "    root._bokeh_onload_callbacks = [];\n",
       "    root._bokeh_is_loading = undefined;\n",
       "  }\n",
       "\n",
       "  var JS_MIME_TYPE = 'application/javascript';\n",
       "  var HTML_MIME_TYPE = 'text/html';\n",
       "  var EXEC_MIME_TYPE = 'application/vnd.bokehjs_exec.v0+json';\n",
       "  var CLASS_NAME = 'output_bokeh rendered_html';\n",
       "\n",
       "  /**\n",
       "   * Render data to the DOM node\n",
       "   */\n",
       "  function render(props, node) {\n",
       "    var script = document.createElement(\"script\");\n",
       "    node.appendChild(script);\n",
       "  }\n",
       "\n",
       "  /**\n",
       "   * Handle when an output is cleared or removed\n",
       "   */\n",
       "  function handleClearOutput(event, handle) {\n",
       "    var cell = handle.cell;\n",
       "\n",
       "    var id = cell.output_area._bokeh_element_id;\n",
       "    var server_id = cell.output_area._bokeh_server_id;\n",
       "    // Clean up Bokeh references\n",
       "    if (id != null && id in Bokeh.index) {\n",
       "      Bokeh.index[id].model.document.clear();\n",
       "      delete Bokeh.index[id];\n",
       "    }\n",
       "\n",
       "    if (server_id !== undefined) {\n",
       "      // Clean up Bokeh references\n",
       "      var cmd = \"from bokeh.io.state import curstate; print(curstate().uuid_to_server['\" + server_id + \"'].get_sessions()[0].document.roots[0]._id)\";\n",
       "      cell.notebook.kernel.execute(cmd, {\n",
       "        iopub: {\n",
       "          output: function(msg) {\n",
       "            var id = msg.content.text.trim();\n",
       "            if (id in Bokeh.index) {\n",
       "              Bokeh.index[id].model.document.clear();\n",
       "              delete Bokeh.index[id];\n",
       "            }\n",
       "          }\n",
       "        }\n",
       "      });\n",
       "      // Destroy server and session\n",
       "      var cmd = \"import bokeh.io.notebook as ion; ion.destroy_server('\" + server_id + \"')\";\n",
       "      cell.notebook.kernel.execute(cmd);\n",
       "    }\n",
       "  }\n",
       "\n",
       "  /**\n",
       "   * Handle when a new output is added\n",
       "   */\n",
       "  function handleAddOutput(event, handle) {\n",
       "    var output_area = handle.output_area;\n",
       "    var output = handle.output;\n",
       "\n",
       "    // limit handleAddOutput to display_data with EXEC_MIME_TYPE content only\n",
       "    if ((output.output_type != \"display_data\") || (!output.data.hasOwnProperty(EXEC_MIME_TYPE))) {\n",
       "      return\n",
       "    }\n",
       "\n",
       "    var toinsert = output_area.element.find(\".\" + CLASS_NAME.split(' ')[0]);\n",
       "\n",
       "    if (output.metadata[EXEC_MIME_TYPE][\"id\"] !== undefined) {\n",
       "      toinsert[toinsert.length - 1].firstChild.textContent = output.data[JS_MIME_TYPE];\n",
       "      // store reference to embed id on output_area\n",
       "      output_area._bokeh_element_id = output.metadata[EXEC_MIME_TYPE][\"id\"];\n",
       "    }\n",
       "    if (output.metadata[EXEC_MIME_TYPE][\"server_id\"] !== undefined) {\n",
       "      var bk_div = document.createElement(\"div\");\n",
       "      bk_div.innerHTML = output.data[HTML_MIME_TYPE];\n",
       "      var script_attrs = bk_div.children[0].attributes;\n",
       "      for (var i = 0; i < script_attrs.length; i++) {\n",
       "        toinsert[toinsert.length - 1].firstChild.setAttribute(script_attrs[i].name, script_attrs[i].value);\n",
       "        toinsert[toinsert.length - 1].firstChild.textContent = bk_div.children[0].textContent\n",
       "      }\n",
       "      // store reference to server id on output_area\n",
       "      output_area._bokeh_server_id = output.metadata[EXEC_MIME_TYPE][\"server_id\"];\n",
       "    }\n",
       "  }\n",
       "\n",
       "  function register_renderer(events, OutputArea) {\n",
       "\n",
       "    function append_mime(data, metadata, element) {\n",
       "      // create a DOM node to render to\n",
       "      var toinsert = this.create_output_subarea(\n",
       "        metadata,\n",
       "        CLASS_NAME,\n",
       "        EXEC_MIME_TYPE\n",
       "      );\n",
       "      this.keyboard_manager.register_events(toinsert);\n",
       "      // Render to node\n",
       "      var props = {data: data, metadata: metadata[EXEC_MIME_TYPE]};\n",
       "      render(props, toinsert[toinsert.length - 1]);\n",
       "      element.append(toinsert);\n",
       "      return toinsert\n",
       "    }\n",
       "\n",
       "    /* Handle when an output is cleared or removed */\n",
       "    events.on('clear_output.CodeCell', handleClearOutput);\n",
       "    events.on('delete.Cell', handleClearOutput);\n",
       "\n",
       "    /* Handle when a new output is added */\n",
       "    events.on('output_added.OutputArea', handleAddOutput);\n",
       "\n",
       "    /**\n",
       "     * Register the mime type and append_mime function with output_area\n",
       "     */\n",
       "    OutputArea.prototype.register_mime_type(EXEC_MIME_TYPE, append_mime, {\n",
       "      /* Is output safe? */\n",
       "      safe: true,\n",
       "      /* Index of renderer in `output_area.display_order` */\n",
       "      index: 0\n",
       "    });\n",
       "  }\n",
       "\n",
       "  // register the mime type if in Jupyter Notebook environment and previously unregistered\n",
       "  if (root.Jupyter !== undefined) {\n",
       "    var events = require('base/js/events');\n",
       "    var OutputArea = require('notebook/js/outputarea').OutputArea;\n",
       "\n",
       "    if (OutputArea.prototype.mime_types().indexOf(EXEC_MIME_TYPE) == -1) {\n",
       "      register_renderer(events, OutputArea);\n",
       "    }\n",
       "  }\n",
       "\n",
       "  \n",
       "  if (typeof (root._bokeh_timeout) === \"undefined\" || force === true) {\n",
       "    root._bokeh_timeout = Date.now() + 5000;\n",
       "    root._bokeh_failed_load = false;\n",
       "  }\n",
       "\n",
       "  var NB_LOAD_WARNING = {'data': {'text/html':\n",
       "     \"<div style='background-color: #fdd'>\\n\"+\n",
       "     \"<p>\\n\"+\n",
       "     \"BokehJS does not appear to have successfully loaded. If loading BokehJS from CDN, this \\n\"+\n",
       "     \"may be due to a slow or bad network connection. Possible fixes:\\n\"+\n",
       "     \"</p>\\n\"+\n",
       "     \"<ul>\\n\"+\n",
       "     \"<li>re-rerun `output_notebook()` to attempt to load from CDN again, or</li>\\n\"+\n",
       "     \"<li>use INLINE resources instead, as so:</li>\\n\"+\n",
       "     \"</ul>\\n\"+\n",
       "     \"<code>\\n\"+\n",
       "     \"from bokeh.resources import INLINE\\n\"+\n",
       "     \"output_notebook(resources=INLINE)\\n\"+\n",
       "     \"</code>\\n\"+\n",
       "     \"</div>\"}};\n",
       "\n",
       "  function display_loaded() {\n",
       "    var el = document.getElementById(\"1003\");\n",
       "    if (el != null) {\n",
       "      el.textContent = \"BokehJS is loading...\";\n",
       "    }\n",
       "    if (root.Bokeh !== undefined) {\n",
       "      if (el != null) {\n",
       "        el.textContent = \"BokehJS \" + root.Bokeh.version + \" successfully loaded.\";\n",
       "      }\n",
       "    } else if (Date.now() < root._bokeh_timeout) {\n",
       "      setTimeout(display_loaded, 100)\n",
       "    }\n",
       "  }\n",
       "\n",
       "\n",
       "  function run_callbacks() {\n",
       "    try {\n",
       "      root._bokeh_onload_callbacks.forEach(function(callback) {\n",
       "        if (callback != null)\n",
       "          callback();\n",
       "      });\n",
       "    } finally {\n",
       "      delete root._bokeh_onload_callbacks\n",
       "    }\n",
       "    console.debug(\"Bokeh: all callbacks have finished\");\n",
       "  }\n",
       "\n",
       "  function load_libs(css_urls, js_urls, callback) {\n",
       "    if (css_urls == null) css_urls = [];\n",
       "    if (js_urls == null) js_urls = [];\n",
       "\n",
       "    root._bokeh_onload_callbacks.push(callback);\n",
       "    if (root._bokeh_is_loading > 0) {\n",
       "      console.debug(\"Bokeh: BokehJS is being loaded, scheduling callback at\", now());\n",
       "      return null;\n",
       "    }\n",
       "    if (js_urls == null || js_urls.length === 0) {\n",
       "      run_callbacks();\n",
       "      return null;\n",
       "    }\n",
       "    console.debug(\"Bokeh: BokehJS not loaded, scheduling load and callback at\", now());\n",
       "    root._bokeh_is_loading = css_urls.length + js_urls.length;\n",
       "\n",
       "    function on_load() {\n",
       "      root._bokeh_is_loading--;\n",
       "      if (root._bokeh_is_loading === 0) {\n",
       "        console.debug(\"Bokeh: all BokehJS libraries/stylesheets loaded\");\n",
       "        run_callbacks()\n",
       "      }\n",
       "    }\n",
       "\n",
       "    function on_error() {\n",
       "      console.error(\"failed to load \" + url);\n",
       "    }\n",
       "\n",
       "    for (var i = 0; i < css_urls.length; i++) {\n",
       "      var url = css_urls[i];\n",
       "      const element = document.createElement(\"link\");\n",
       "      element.onload = on_load;\n",
       "      element.onerror = on_error;\n",
       "      element.rel = \"stylesheet\";\n",
       "      element.type = \"text/css\";\n",
       "      element.href = url;\n",
       "      console.debug(\"Bokeh: injecting link tag for BokehJS stylesheet: \", url);\n",
       "      document.body.appendChild(element);\n",
       "    }\n",
       "\n",
       "    const hashes = {\"https://cdn.bokeh.org/bokeh/release/bokeh-2.2.3.min.js\": \"T2yuo9Oe71Cz/I4X9Ac5+gpEa5a8PpJCDlqKYO0CfAuEszu1JrXLl8YugMqYe3sM\", \"https://cdn.bokeh.org/bokeh/release/bokeh-widgets-2.2.3.min.js\": \"98GDGJ0kOMCUMUePhksaQ/GYgB3+NH9h996V88sh3aOiUNX3N+fLXAtry6xctSZ6\", \"https://cdn.bokeh.org/bokeh/release/bokeh-tables-2.2.3.min.js\": \"89bArO+nlbP3sgakeHjCo1JYxYR5wufVgA3IbUvDY+K7w4zyxJqssu7wVnfeKCq8\"};\n",
       "\n",
       "    for (var i = 0; i < js_urls.length; i++) {\n",
       "      var url = js_urls[i];\n",
       "      var element = document.createElement('script');\n",
       "      element.onload = on_load;\n",
       "      element.onerror = on_error;\n",
       "      element.async = false;\n",
       "      element.src = url;\n",
       "      if (url in hashes) {\n",
       "        element.crossOrigin = \"anonymous\";\n",
       "        element.integrity = \"sha384-\" + hashes[url];\n",
       "      }\n",
       "      console.debug(\"Bokeh: injecting script tag for BokehJS library: \", url);\n",
       "      document.head.appendChild(element);\n",
       "    }\n",
       "  };\n",
       "\n",
       "  function inject_raw_css(css) {\n",
       "    const element = document.createElement(\"style\");\n",
       "    element.appendChild(document.createTextNode(css));\n",
       "    document.body.appendChild(element);\n",
       "  }\n",
       "\n",
       "  \n",
       "  var js_urls = [\"https://cdn.bokeh.org/bokeh/release/bokeh-2.2.3.min.js\", \"https://cdn.bokeh.org/bokeh/release/bokeh-widgets-2.2.3.min.js\", \"https://cdn.bokeh.org/bokeh/release/bokeh-tables-2.2.3.min.js\"];\n",
       "  var css_urls = [];\n",
       "  \n",
       "\n",
       "  var inline_js = [\n",
       "    function(Bokeh) {\n",
       "      Bokeh.set_log_level(\"info\");\n",
       "    },\n",
       "    function(Bokeh) {\n",
       "    \n",
       "    \n",
       "    }\n",
       "  ];\n",
       "\n",
       "  function run_inline_js() {\n",
       "    \n",
       "    if (root.Bokeh !== undefined || force === true) {\n",
       "      \n",
       "    for (var i = 0; i < inline_js.length; i++) {\n",
       "      inline_js[i].call(root, root.Bokeh);\n",
       "    }\n",
       "    if (force === true) {\n",
       "        display_loaded();\n",
       "      }} else if (Date.now() < root._bokeh_timeout) {\n",
       "      setTimeout(run_inline_js, 100);\n",
       "    } else if (!root._bokeh_failed_load) {\n",
       "      console.log(\"Bokeh: BokehJS failed to load within specified timeout.\");\n",
       "      root._bokeh_failed_load = true;\n",
       "    } else if (force !== true) {\n",
       "      var cell = $(document.getElementById(\"1003\")).parents('.cell').data().cell;\n",
       "      cell.output_area.append_execute_result(NB_LOAD_WARNING)\n",
       "    }\n",
       "\n",
       "  }\n",
       "\n",
       "  if (root._bokeh_is_loading === 0) {\n",
       "    console.debug(\"Bokeh: BokehJS loaded, going straight to plotting\");\n",
       "    run_inline_js();\n",
       "  } else {\n",
       "    load_libs(css_urls, js_urls, function() {\n",
       "      console.debug(\"Bokeh: BokehJS plotting callback run at\", now());\n",
       "      run_inline_js();\n",
       "    });\n",
       "  }\n",
       "}(window));"
      ],
      "application/vnd.bokehjs_load.v0+json": "\n(function(root) {\n  function now() {\n    return new Date();\n  }\n\n  var force = true;\n\n  if (typeof root._bokeh_onload_callbacks === \"undefined\" || force === true) {\n    root._bokeh_onload_callbacks = [];\n    root._bokeh_is_loading = undefined;\n  }\n\n  \n\n  \n  if (typeof (root._bokeh_timeout) === \"undefined\" || force === true) {\n    root._bokeh_timeout = Date.now() + 5000;\n    root._bokeh_failed_load = false;\n  }\n\n  var NB_LOAD_WARNING = {'data': {'text/html':\n     \"<div style='background-color: #fdd'>\\n\"+\n     \"<p>\\n\"+\n     \"BokehJS does not appear to have successfully loaded. If loading BokehJS from CDN, this \\n\"+\n     \"may be due to a slow or bad network connection. Possible fixes:\\n\"+\n     \"</p>\\n\"+\n     \"<ul>\\n\"+\n     \"<li>re-rerun `output_notebook()` to attempt to load from CDN again, or</li>\\n\"+\n     \"<li>use INLINE resources instead, as so:</li>\\n\"+\n     \"</ul>\\n\"+\n     \"<code>\\n\"+\n     \"from bokeh.resources import INLINE\\n\"+\n     \"output_notebook(resources=INLINE)\\n\"+\n     \"</code>\\n\"+\n     \"</div>\"}};\n\n  function display_loaded() {\n    var el = document.getElementById(\"1003\");\n    if (el != null) {\n      el.textContent = \"BokehJS is loading...\";\n    }\n    if (root.Bokeh !== undefined) {\n      if (el != null) {\n        el.textContent = \"BokehJS \" + root.Bokeh.version + \" successfully loaded.\";\n      }\n    } else if (Date.now() < root._bokeh_timeout) {\n      setTimeout(display_loaded, 100)\n    }\n  }\n\n\n  function run_callbacks() {\n    try {\n      root._bokeh_onload_callbacks.forEach(function(callback) {\n        if (callback != null)\n          callback();\n      });\n    } finally {\n      delete root._bokeh_onload_callbacks\n    }\n    console.debug(\"Bokeh: all callbacks have finished\");\n  }\n\n  function load_libs(css_urls, js_urls, callback) {\n    if (css_urls == null) css_urls = [];\n    if (js_urls == null) js_urls = [];\n\n    root._bokeh_onload_callbacks.push(callback);\n    if (root._bokeh_is_loading > 0) {\n      console.debug(\"Bokeh: BokehJS is being loaded, scheduling callback at\", now());\n      return null;\n    }\n    if (js_urls == null || js_urls.length === 0) {\n      run_callbacks();\n      return null;\n    }\n    console.debug(\"Bokeh: BokehJS not loaded, scheduling load and callback at\", now());\n    root._bokeh_is_loading = css_urls.length + js_urls.length;\n\n    function on_load() {\n      root._bokeh_is_loading--;\n      if (root._bokeh_is_loading === 0) {\n        console.debug(\"Bokeh: all BokehJS libraries/stylesheets loaded\");\n        run_callbacks()\n      }\n    }\n\n    function on_error() {\n      console.error(\"failed to load \" + url);\n    }\n\n    for (var i = 0; i < css_urls.length; i++) {\n      var url = css_urls[i];\n      const element = document.createElement(\"link\");\n      element.onload = on_load;\n      element.onerror = on_error;\n      element.rel = \"stylesheet\";\n      element.type = \"text/css\";\n      element.href = url;\n      console.debug(\"Bokeh: injecting link tag for BokehJS stylesheet: \", url);\n      document.body.appendChild(element);\n    }\n\n    const hashes = {\"https://cdn.bokeh.org/bokeh/release/bokeh-2.2.3.min.js\": \"T2yuo9Oe71Cz/I4X9Ac5+gpEa5a8PpJCDlqKYO0CfAuEszu1JrXLl8YugMqYe3sM\", \"https://cdn.bokeh.org/bokeh/release/bokeh-widgets-2.2.3.min.js\": \"98GDGJ0kOMCUMUePhksaQ/GYgB3+NH9h996V88sh3aOiUNX3N+fLXAtry6xctSZ6\", \"https://cdn.bokeh.org/bokeh/release/bokeh-tables-2.2.3.min.js\": \"89bArO+nlbP3sgakeHjCo1JYxYR5wufVgA3IbUvDY+K7w4zyxJqssu7wVnfeKCq8\"};\n\n    for (var i = 0; i < js_urls.length; i++) {\n      var url = js_urls[i];\n      var element = document.createElement('script');\n      element.onload = on_load;\n      element.onerror = on_error;\n      element.async = false;\n      element.src = url;\n      if (url in hashes) {\n        element.crossOrigin = \"anonymous\";\n        element.integrity = \"sha384-\" + hashes[url];\n      }\n      console.debug(\"Bokeh: injecting script tag for BokehJS library: \", url);\n      document.head.appendChild(element);\n    }\n  };\n\n  function inject_raw_css(css) {\n    const element = document.createElement(\"style\");\n    element.appendChild(document.createTextNode(css));\n    document.body.appendChild(element);\n  }\n\n  \n  var js_urls = [\"https://cdn.bokeh.org/bokeh/release/bokeh-2.2.3.min.js\", \"https://cdn.bokeh.org/bokeh/release/bokeh-widgets-2.2.3.min.js\", \"https://cdn.bokeh.org/bokeh/release/bokeh-tables-2.2.3.min.js\"];\n  var css_urls = [];\n  \n\n  var inline_js = [\n    function(Bokeh) {\n      Bokeh.set_log_level(\"info\");\n    },\n    function(Bokeh) {\n    \n    \n    }\n  ];\n\n  function run_inline_js() {\n    \n    if (root.Bokeh !== undefined || force === true) {\n      \n    for (var i = 0; i < inline_js.length; i++) {\n      inline_js[i].call(root, root.Bokeh);\n    }\n    if (force === true) {\n        display_loaded();\n      }} else if (Date.now() < root._bokeh_timeout) {\n      setTimeout(run_inline_js, 100);\n    } else if (!root._bokeh_failed_load) {\n      console.log(\"Bokeh: BokehJS failed to load within specified timeout.\");\n      root._bokeh_failed_load = true;\n    } else if (force !== true) {\n      var cell = $(document.getElementById(\"1003\")).parents('.cell').data().cell;\n      cell.output_area.append_execute_result(NB_LOAD_WARNING)\n    }\n\n  }\n\n  if (root._bokeh_is_loading === 0) {\n    console.debug(\"Bokeh: BokehJS loaded, going straight to plotting\");\n    run_inline_js();\n  } else {\n    load_libs(css_urls, js_urls, function() {\n      console.debug(\"Bokeh: BokehJS plotting callback run at\", now());\n      run_inline_js();\n    });\n  }\n}(window));"
     },
     "metadata": {},
     "output_type": "display_data"
    }
   ],
   "source": [
    "#importing libraries\n",
    "from toggle_code import toggle_code as hide_code\n",
    "from toggle_code import run_code as run_code\n",
    "\n",
    "import glob\n",
    "from netCDF4 import Dataset\n",
    "import numpy as np\n",
    "import math\n",
    "import pcse\n",
    "import pandas as pd\n",
    "import ipywidgets as widgets\n",
    "from ipywidgets import interact\n",
    "from bokeh.io import push_notebook, show, output_notebook\n",
    "from bokeh.plotting import figure\n",
    "from bokeh.tile_providers import get_provider, Vendors\n",
    "from bokeh.palettes import RdYlGn\n",
    "from bokeh.models import Legend, BoxAnnotation, Toggle, CustomJS,ColumnDataSource,LinearColorMapper, ColorBar, BasicTicker,\\\n",
    "                          PrintfTickFormatter\n",
    "from bokeh.transform import transform\n",
    "from bokeh.models.tools import *\n",
    "tile_provider = get_provider('STAMEN_TERRAIN')\n",
    "tile_provider2 = get_provider('CARTODBPOSITRON')\n",
    "#create pyproj transformer to convert form lat/long to web mercator\n",
    "from pyproj import Transformer\n",
    "transformer = Transformer.from_crs('epsg:4326','epsg:3857')\n",
    "output_notebook()\n",
    "import warnings\n",
    "warnings.filterwarnings(\"ignore\", message=\"Cannot find a last shown plot to update.\")\n",
    "import datetime\n",
    "import os"
   ]
  },
  {
   "cell_type": "markdown",
   "metadata": {},
   "source": [
    "## 1. Date selection\n",
    "\n",
    "Select the month you want to explore from part one the data download. \n",
    "\n",
    "\n",
    "*If you are using a binder instance of this notebook you may run out of memory if you select too many dates. This is indicated when the notebook disconnects in step 4.* "
   ]
  },
  {
   "cell_type": "code",
   "execution_count": 3,
   "metadata": {
    "code_folding": []
   },
   "outputs": [
    {
     "data": {
      "text/html": [
       "\n",
       "<form action=\"javascript:code_toggle()\"><input type=\"submit\" id=\"toggleButton\" value=\"Hide/Show Code\"></form>\n"
      ],
      "text/plain": [
       "<IPython.core.display.HTML object>"
      ]
     },
     "metadata": {},
     "output_type": "display_data"
    },
    {
     "data": {
      "text/html": [
       "\n",
       "<form action=\"javascript:Jupyter.notebook.execute_cell()\"><input type =\"submit\" id=\"runButton\" value=\"Run Cell\"></form>\n"
      ],
      "text/plain": [
       "<IPython.core.display.HTML object>"
      ]
     },
     "metadata": {},
     "output_type": "display_data"
    },
    {
     "data": {
      "application/vnd.jupyter.widget-view+json": {
       "model_id": "d757a89f12ea48999d546ff4d3ce25bf",
       "version_major": 2,
       "version_minor": 0
      },
      "text/plain": [
       "interactive(children=(SelectMultiple(description='Dates', options=('2019-01', '2019-02', '2019-03', '2019-04',…"
      ]
     },
     "metadata": {},
     "output_type": "display_data"
    }
   ],
   "source": [
    "#choosing data file\n",
    "hide_code()\n",
    "run_code()\n",
    "\n",
    "#grab dates from FLDAS files\n",
    "all_months = []\n",
    "\n",
    "#iterate through files\n",
    "for file in glob.glob(r'data/*.nc4'):\n",
    "    #print(file)\n",
    "    data = Dataset(file, 'r')\n",
    "    #time = data.variables['time'].units\n",
    "    #print(time)\n",
    "    date = file[26:30] + '-' + file[30:32]\n",
    "    #month = time[11:21]\n",
    "    all_months.append(date)\n",
    "    #print(time)\n",
    "\n",
    "#Widget for user to select desired months\n",
    "dates_data = widgets.SelectMultiple(\n",
    "    options = all_months,\n",
    "    description='Dates',\n",
    "    disabled=False\n",
    ")\n",
    "\n",
    "#interact function to store user input\n",
    "dates_selected = []\n",
    "def update(dates):\n",
    "    date_selected = list(dates)\n",
    "    \n",
    "#Retrieve elevevation data and stores in a dictionary of\n",
    "# Key = Long, Lat pair\n",
    "# Value = Elevation\n",
    "elev_dict = {}\n",
    "for file in glob.glob(r'data/*.csv'):\n",
    "    elev = pd.read_csv(file)\n",
    "    for idx, row in elev.iterrows():\n",
    "        elev_dict[(row[\"Longitude\"],row[\"Latitude\"])] = row[\"Elevation\"]\n",
    "\n",
    "dates_selection = interact(update, dates= dates_data)"
   ]
  },
  {
   "cell_type": "markdown",
   "metadata": {},
   "source": [
    "## 2. Location Selection\n",
    "\n",
    "In the next step we determine the longitude and latitude window in which we want to draw data from and display"
   ]
  },
  {
   "cell_type": "code",
   "execution_count": 4,
   "metadata": {},
   "outputs": [
    {
     "data": {
      "text/html": [
       "\n",
       "<form action=\"javascript:code_toggle()\"><input type=\"submit\" id=\"toggleButton\" value=\"Hide/Show Code\"></form>\n"
      ],
      "text/plain": [
       "<IPython.core.display.HTML object>"
      ]
     },
     "metadata": {},
     "output_type": "display_data"
    },
    {
     "data": {
      "text/html": [
       "\n",
       "<form action=\"javascript:Jupyter.notebook.execute_cell()\"><input type =\"submit\" id=\"runButton\" value=\"Run Cell\"></form>\n"
      ],
      "text/plain": [
       "<IPython.core.display.HTML object>"
      ]
     },
     "metadata": {},
     "output_type": "display_data"
    },
    {
     "name": "stdout",
     "output_type": "stream",
     "text": [
      "Waiting for Inputs\n",
      "  \n"
     ]
    }
   ],
   "source": [
    "hide_code()\n",
    "run_code()\n",
    "date_selection = dates_selection.__dict__[\"widget\"].children[0].__dict__[\"_trait_values\"][\"value\"]\n",
    "\n",
    "if date_selection: \n",
    "    file_loc = r\"data/FLDAS_NOAH01_C_GL_M.A\" + date_selection[0][0:4]+date_selection[0][5:7] + \".001.nc.SUB.nc4\"\n",
    "    data_loc =Dataset(file_loc, 'r')\n",
    "    lat_array = data_loc.variables['Y'][:]#.compressed() # unmasks numpy_array lat stored in the FLDAS files \n",
    "    long_array = data_loc.variables['X'][:]#.compressed() # unmasks numpy array long stored in FLDAS files\n",
    "    min_lat = lat_array[0]\n",
    "    max_lat = lat_array[-1]\n",
    "    min_long = long_array[0]\n",
    "    max_long = long_array[-1]\n",
    "    long_points = {'globe':[], 'web':[]}\n",
    "    lat_points = {'globe':[], 'web':[]}\n",
    "    for i in range(len(lat_array)):\n",
    "        for j in range(len(long_array)):\n",
    "            if round(lat_array[i],2) not in lat_points['globe']:\n",
    "                lat_points['globe'].append(round(lat_array[i],2))\n",
    "            if round(long_array[j],2) not in long_points['globe']:\n",
    "                long_points['globe'].append(round(long_array[j],2))\n",
    "            pt = transformer.transform(lat_array[i], long_array[j])\n",
    "            if pt[0] not in long_points['web']: \n",
    "                long_points['web'].append(pt[0])\n",
    "            if pt[1] not in lat_points['web']:\n",
    "                lat_points['web'].append(pt[1])\n",
    "\n",
    "    pts = [(min_lat, min_long), (max_lat, max_long)]\n",
    "    bbox = []\n",
    "    for pt in transformer.itransform(pts): \n",
    "        bbox.append(pt)       \n",
    "\n",
    "    #Plot is not the best as it has to replot the map each time instead of the just the box\n",
    "    #Need to find a better way\n",
    "    def update(min_latitude, max_latitude, min_longitude, max_longitude):\n",
    "        #Create the base figure\n",
    "        p = figure(x_range=(bbox[0][0], bbox[1][0]),y_range=(bbox[0][1], bbox[1][1]),x_axis_type=\"mercator\", y_axis_type=\"mercator\")\n",
    "        #add the map form the Bokeh map vendor in this case Stamen_Terrain --- see documentation\n",
    "        p.add_tile(tile_provider)\n",
    "        #Convert from lat/long to mercator projection\n",
    "        idx_long_min = long_points[\"globe\"].index(min_longitude)\n",
    "        idx_lat_min = lat_points[\"globe\"].index(min_latitude)\n",
    "        idx_long_max = long_points[\"globe\"].index(max_longitude)\n",
    "        idx_lat_max = lat_points[\"globe\"].index(max_latitude)\n",
    "        p.patch([long_points[\"web\"][idx_long_min],long_points[\"web\"][idx_long_min],\\\n",
    "                 long_points[\"web\"][idx_long_max],long_points[\"web\"][idx_long_max]],\\\n",
    "                [lat_points[\"web\"][idx_lat_min],lat_points[\"web\"][idx_lat_max],\\\n",
    "                 lat_points[\"web\"][idx_lat_max],lat_points[\"web\"][idx_lat_min]],\\\n",
    "                 color=\"red\", alpha=0.5)\n",
    "\n",
    "        push_notebook()\n",
    "        show(p, notebook_handle=True)\n",
    "\n",
    "\n",
    "\n",
    "    loc_input = interact(update,min_latitude=widgets.FloatSlider(min=lat_points[\"globe\"][0], max=lat_points[\"globe\"][-1], value=lat_points[\"globe\"][0]), \n",
    "                         max_latitude=widgets.FloatSlider(min=lat_points[\"globe\"][0], max=lat_points[\"globe\"][-1], value=lat_points[\"globe\"][-1]),\n",
    "                         min_longitude=widgets.FloatSlider(min=long_points[\"globe\"][0],max=long_points[\"globe\"][-1],value= long_points[\"globe\"][0]),\n",
    "                         max_longitude=widgets.FloatSlider(min=long_points[\"globe\"][0],max=long_points[\"globe\"][-1], value=long_points[\"globe\"][-1]))\n",
    "\n",
    "else: \n",
    "    print (\"Waiting for Inputs\")\n",
    "print (\"  \") #Hides the output"
   ]
  },
  {
   "cell_type": "markdown",
   "metadata": {},
   "source": [
    "# 3. Getting the Elevation\n",
    "\n",
    "This cell retrieves the desired regional map and obtains the elevations for that region. "
   ]
  },
  {
   "cell_type": "code",
   "execution_count": 5,
   "metadata": {},
   "outputs": [
    {
     "data": {
      "text/html": [
       "\n",
       "<form action=\"javascript:code_toggle()\"><input type=\"submit\" id=\"toggleButton\" value=\"Hide/Show Code\"></form>\n"
      ],
      "text/plain": [
       "<IPython.core.display.HTML object>"
      ]
     },
     "metadata": {},
     "output_type": "display_data"
    },
    {
     "data": {
      "text/html": [
       "\n",
       "<form action=\"javascript:Jupyter.notebook.execute_cell()\"><input type =\"submit\" id=\"runButton\" value=\"Run Cell\"></form>\n"
      ],
      "text/plain": [
       "<IPython.core.display.HTML object>"
      ]
     },
     "metadata": {},
     "output_type": "display_data"
    },
    {
     "name": "stdout",
     "output_type": "stream",
     "text": [
      "Waiting for inputs.\n"
     ]
    }
   ],
   "source": [
    "hide_code()\n",
    "run_code()\n",
    "\n",
    "if date_selection: \n",
    "    #Take user inputs and get new arrays from lat and long\n",
    "    lat_min = loc_input.__dict__[\"widget\"].children[0].__dict__[\"_trait_values\"][\"value\"]\n",
    "    lat_max = loc_input.__dict__[\"widget\"].children[1].__dict__[\"_trait_values\"][\"value\"]\n",
    "    lon_min = loc_input.__dict__[\"widget\"].children[2].__dict__[\"_trait_values\"][\"value\"]\n",
    "    lon_max = loc_input.__dict__[\"widget\"].children[3].__dict__[\"_trait_values\"][\"value\"]\n",
    "\n",
    "    #Make user input and masked array compatabile and updated array to user inputs\n",
    "    lat=[]\n",
    "    lons =[]\n",
    "    lats_user =[]\n",
    "    lons_user = []\n",
    "    lats = np.round(data.variables['Y'][:],2)\n",
    "    lons = np.round(data.variables['X'][:],2)\n",
    "    lat_min_idx = np.where(lats.data==lat_min)\n",
    "    lat_max_idx = np.where(lats.data==lat_max)\n",
    "    lats_user = lats[lat_min_idx[0][0]:lat_max_idx[0][0]]\n",
    "    lon_min_idx = np.where(lons.data==lon_min)\n",
    "    lon_max_idx = np.where(lons.data==lon_max)\n",
    "    lons_user = lons[lon_min_idx[0][0]:lon_max_idx[0][0]]\n",
    "    #get web projections for use in heatmap\n",
    "    lats_user_globe = lat_points[\"web\"][lat_min_idx[0][0]:lat_max_idx[0][0]]\n",
    "    lons_user_globe =long_points[\"web\"][lon_min_idx[0][0]:lon_max_idx[0][0]]\n",
    "\n",
    "\n",
    "    #convert into a grid of lat/long coordinates\n",
    "    lon2, lat2 = np.meshgrid(lons_user, lats_user)\n",
    "    lat_flat = lat2.flatten()\n",
    "    lon_flat = lon2.flatten()\n",
    "    lon_web,lat_web =np.meshgrid(lons_user_globe, lats_user_globe)\n",
    "    lon_web_flat = lon_web.flatten()\n",
    "    lat_web_flat = lat_web.flatten()\n",
    "    area = len(lat_flat)\n",
    "    #reqs = len(lat_flat)*len(lon_flat)\n",
    "    elevation = np.zeros(area)\n",
    "\n",
    "    for x in range(area):\n",
    "       elevation[x] = elev_dict[(lon_flat[x],lat_flat[x])]\n",
    "\n",
    "    print (\"This cell has updated the bounding box based on user input and retrieved the elevation for that region.\")\n",
    "else:\n",
    "    print(\"Waiting for inputs.\")"
   ]
  },
  {
   "cell_type": "markdown",
   "metadata": {},
   "source": [
    "## 4. Water Requirement ans Satsification Index Calculations\n",
    "\n",
    "The next cell takes the elevation and FLDAS data and uses the [Python Crop Simulation Environment](https://pcse.readthedocs.io/en/stable/), specifically the Penman-Monteith algorithm, to calculate the Water Requirement Satsification Index (WRSI). Each Month is stored in a table (or dataframe). A table for one month shows as an example. It shows the latitude, longitude, WRSI and mercator equivalents on the x an y axis for longitude and latitude.  "
   ]
  },
  {
   "cell_type": "code",
   "execution_count": 6,
   "metadata": {
    "code_folding": [
     0
    ]
   },
   "outputs": [
    {
     "data": {
      "text/html": [
       "\n",
       "<form action=\"javascript:code_toggle()\"><input type=\"submit\" id=\"toggleButton\" value=\"Hide/Show Code\"></form>\n"
      ],
      "text/plain": [
       "<IPython.core.display.HTML object>"
      ]
     },
     "metadata": {},
     "output_type": "display_data"
    },
    {
     "data": {
      "text/html": [
       "\n",
       "<form action=\"javascript:Jupyter.notebook.execute_cell()\"><input type =\"submit\" id=\"runButton\" value=\"Run Cell\"></form>\n"
      ],
      "text/plain": [
       "<IPython.core.display.HTML object>"
      ]
     },
     "metadata": {},
     "output_type": "display_data"
    },
    {
     "name": "stdout",
     "output_type": "stream",
     "text": [
      "Waiting for Inputs\n"
     ]
    }
   ],
   "source": [
    "hide_code()\n",
    "run_code()\n",
    "\n",
    "if date_selection: \n",
    "    status_dict = {}\n",
    "    print (\"Calculating.....\")\n",
    "    for date in date_selection: \n",
    "        file_loc = r\"data/FLDAS_NOAH01_C_GL_M.A\" + date[0:4]+date[5:7] + \".001.nc.SUB.nc4\"\n",
    "        data =Dataset(file_loc, 'r')\n",
    "        #lat_array = data_loc.variables['Y'][:]#.compressed() # unmasks numpy_array lat stored in the FLDAS files \n",
    "        #long_array = data_loc.variables['X'][:]#.compressed() # unmasks numpy array long stored in FLDAS files    \n",
    "        #defining the date\n",
    "        month_data = datetime.date(int(date[0:4]),int(date[5:8]),1)\n",
    "        #WR = np.arange(area).reshape(len(lats_user),(len(lons_user)))\n",
    "        WR = np.zeros(area)\n",
    "        WRSI = np.zeros(area)\n",
    "\n",
    "        #Get the subset sets of FLDAS downloaded data from user input\n",
    "        air_temp = data.variables['Tair_f_tavg'][0][lat_min_idx[0][0]:lat_max_idx[0][0],lon_min_idx[0][0]:lon_max_idx[0][0]]\n",
    "        humidity = data.variables['Qair_f_tavg'][0][lat_min_idx[0][0]:lat_max_idx[0][0],lon_min_idx[0][0]:lon_max_idx[0][0]]\n",
    "        net_short_radiation = data.variables['SWdown_f_tavg'][0][lat_min_idx[0][0]:lat_max_idx[0][0],lon_min_idx[0][0]:lon_max_idx[0][0]]\n",
    "        net_long_radiation = data.variables['Lwnet_tavg'][0][lat_min_idx[0][0]:lat_max_idx[0][0],lon_min_idx[0][0]:lon_max_idx[0][0]]\n",
    "        wind_speed = data.variables['Wind_f_tavg'][0][lat_min_idx[0][0]:lat_max_idx[0][0],lon_min_idx[0][0]:lon_max_idx[0][0]]\n",
    "        evapotranspiration = data.variables['Evap_tavg'][0][lat_min_idx[0][0]:lat_max_idx[0][0],lon_min_idx[0][0]:lon_max_idx[0][0]]\n",
    "\n",
    "        #get locations in list\n",
    "        locs = tuple(zip(lat_flat, lon_flat))\n",
    "\n",
    "        #grabbing air temp, humidity, short radiation,, long radiation, wind speeds, and evapotranspiration data from the FLDAS dataset\n",
    "        # unit conversions for the PM equation\n",
    "        # converts kg/m^2/s to mm/day\n",
    "        humidity_mm = humidity * 86400\n",
    "\n",
    "        #convert wind speed from 10m height to 2m height\n",
    "        wind_speed_2 = wind_speed * 4.87 / math.log ( 67.8 * 10 - 5.42 ) \n",
    "\n",
    "        #convert air temp from kelvin to celcius\n",
    "        air_temp_C = air_temp -273.15\n",
    "        #flatten all arrays\n",
    "        air_temp_flat = air_temp_C.flatten()\n",
    "        wind_speed_flat = wind_speed_2.flatten()\n",
    "        net_short_radiation_flat =  net_short_radiation.flatten()\n",
    "        evapotranspiration_flat = evapotranspiration.flatten()\n",
    "        evapotranspiration_flat = evapotranspiration_flat * 86400\n",
    "        #Calculate the WR for all co-ordinates in the window\n",
    "        WRSI_dict = {\"latitude\":[], \"longitude\":[], \"WRSI\":[], \"mercator_x\":[], \"mercator_y\":[]}\n",
    "        for x in range(area):\n",
    "            WR[x] = pcse.util.penman_monteith(month_data, lat_flat[x], elevation[x], air_temp_flat[x] , air_temp_flat[x] , \n",
    "                                              net_short_radiation_flat[x], 14, wind_speed_flat[x])\n",
    "\n",
    "            WRSI_dict[\"latitude\"].append(lat_flat[x])\n",
    "            WRSI_dict[\"WRSI\"].append(evapotranspiration_flat[x]*100/WR[x])\n",
    "            WRSI_dict[\"longitude\"].append(lon_flat[x])\n",
    "            WRSI_dict[\"mercator_x\"].append(lon_web_flat[x])\n",
    "            WRSI_dict[\"mercator_y\"].append(lat_web_flat[x])\n",
    "\n",
    "\n",
    "        status_dict[str(month_data)[0:7]] = pd.DataFrame(WRSI_dict)\n",
    "        print (\"Water Satisifaction Requirement Index calculation for \", str(month_data)[0:7], \"complete.\")\n",
    "\n",
    "    #Displaye the first table\n",
    "    keys = list(status_dict.keys())\n",
    "    status_dict[keys[0]]\n",
    "else: \n",
    "    print(\"Waiting for Inputs\")"
   ]
  },
  {
   "cell_type": "markdown",
   "metadata": {},
   "source": [
    "## 5. Plotting the Regional Data\n",
    "\n",
    "This cell creates a map and plots the WRSI data on it to form a heatmap for the longitude and latitude coordinates. Users can select the month they would like to see. "
   ]
  },
  {
   "cell_type": "code",
   "execution_count": 7,
   "metadata": {},
   "outputs": [
    {
     "data": {
      "text/html": [
       "\n",
       "<form action=\"javascript:code_toggle()\"><input type=\"submit\" id=\"toggleButton\" value=\"Hide/Show Code\"></form>\n"
      ],
      "text/plain": [
       "<IPython.core.display.HTML object>"
      ]
     },
     "metadata": {},
     "output_type": "display_data"
    },
    {
     "data": {
      "text/html": [
       "\n",
       "<form action=\"javascript:Jupyter.notebook.execute_cell()\"><input type =\"submit\" id=\"runButton\" value=\"Run Cell\"></form>\n"
      ],
      "text/plain": [
       "<IPython.core.display.HTML object>"
      ]
     },
     "metadata": {},
     "output_type": "display_data"
    },
    {
     "name": "stdout",
     "output_type": "stream",
     "text": [
      "Waiting for Inputs\n"
     ]
    }
   ],
   "source": [
    "hide_code()\n",
    "run_code()\n",
    "\n",
    "if date_selection: \n",
    "    min_max_pts = [(lat_min, lon_min), (lat_max, lon_max)]\n",
    "    bbox2 = []\n",
    "    for pt in transformer.itransform(min_max_pts): \n",
    "        bbox2.append(pt)   \n",
    "        \n",
    "    month =widgets.Dropdown(\n",
    "        options=date_selection,\n",
    "        value=date_selection[0],\n",
    "        # rows=10,\n",
    "        description=\"Plot Month\",\n",
    "        disabled=False)\n",
    "\n",
    "    size = widgets.IntText(\n",
    "        value=800,\n",
    "        description='Plot Size',\n",
    "        disabled=False\n",
    "    )\n",
    "\n",
    "    title = widgets.Text(\n",
    "        value='Regional Maximal Crop Yield',\n",
    "        description='Title',\n",
    "        disabled=False\n",
    "    )\n",
    "\n",
    "    colors = list(RdYlGn[11])   \n",
    "    colors.reverse()\n",
    "    mapper = LinearColorMapper(palette=colors, low=status_dict[month.value].WRSI.min(), high=status_dict[month.value].WRSI.max())\n",
    "\n",
    "    color_bar = ColorBar(color_mapper=mapper, location=(0, 0),\n",
    "                     ticker=BasicTicker(desired_num_ticks=len(colors)),\n",
    "                     formatter=PrintfTickFormatter(format=\"%d%%\"))\n",
    "\n",
    "    def heatmap(month, size, title):\n",
    "\n",
    "        p2 = figure(plot_width=size, plot_height=size, title=title,\n",
    "                    x_range=(bbox2[0][0], bbox2[1][0]),y_range=(bbox2[0][1], bbox2[1][1]),\n",
    "                    x_axis_type=\"mercator\", y_axis_type=\"mercator\")\n",
    "        p2.title.text_font_size = '20pt'\n",
    "        map_base = p2.add_tile(tile_provider2)\n",
    "        map_base.level ='underlay'\n",
    "        #convert source to selected dictionary value\n",
    "        source = ColumnDataSource(status_dict[month])\n",
    "\n",
    "        p2.rect(x='mercator_x', y='mercator_y', width=35000, height=35000, source=source,\n",
    "                line_color=None, fill_color= transform(\"WRSI\", mapper), alpha=0.07)\n",
    "\n",
    "        p2.add_layout(color_bar, 'right')\n",
    "\n",
    "        show(p2)\n",
    "\n",
    "\n",
    "\n",
    "\n",
    "    heatmap_out = interact(heatmap, month= month, size = size, title=title)\n",
    "else: \n",
    "    print(\"Waiting for Inputs\")\n"
   ]
  },
  {
   "cell_type": "markdown",
   "metadata": {},
   "source": [
    "## 6. Save the WRSI Data\n",
    "\n",
    "If you would like to save the WSRI data. Enter the below inputs and each table (dataframe) of location and WSRI will be saved as a .csv (comma seperated value) file (which can be opened with any spreadsheet program or read into a ABM). \n",
    "\n",
    "If you do not want to save the dataframes, do not enter anything in the next cell. "
   ]
  },
  {
   "cell_type": "code",
   "execution_count": 8,
   "metadata": {},
   "outputs": [
    {
     "data": {
      "text/html": [
       "\n",
       "<form action=\"javascript:code_toggle()\"><input type=\"submit\" id=\"toggleButton\" value=\"Hide/Show Code\"></form>\n"
      ],
      "text/plain": [
       "<IPython.core.display.HTML object>"
      ]
     },
     "metadata": {},
     "output_type": "display_data"
    },
    {
     "data": {
      "text/html": [
       "\n",
       "<form action=\"javascript:Jupyter.notebook.execute_cell()\"><input type =\"submit\" id=\"runButton\" value=\"Run Cell\"></form>\n"
      ],
      "text/plain": [
       "<IPython.core.display.HTML object>"
      ]
     },
     "metadata": {},
     "output_type": "display_data"
    },
    {
     "data": {
      "application/vnd.jupyter.widget-view+json": {
       "model_id": "856f04943fc7485e97a8a7dd6eb1b6ee",
       "version_major": 2,
       "version_minor": 0
      },
      "text/plain": [
       "interactive(children=(Text(value='Enter File Path', description='Filepath:', placeholder='Type something'), Ou…"
      ]
     },
     "metadata": {},
     "output_type": "display_data"
    }
   ],
   "source": [
    "hide_code()\n",
    "run_code()\n",
    "\n",
    "#get filepath of user\n",
    "filepath = widgets.Text(\n",
    "    value='Enter File Path',\n",
    "    placeholder='Type something',\n",
    "    description='Filepath:',\n",
    "    disabled=False\n",
    ")\n",
    "\n",
    "def save_files(filepath):\n",
    "    if filepath == 'Enter File Path':\n",
    "        pass\n",
    "    else: \n",
    "        for k,v in status_dict.items(): \n",
    "            #get file name\n",
    "            filename = \"WRSI_\"+ k +\".csv\"\n",
    "            #combine filepath with name\n",
    "            file = os.path.join(filepath,filename)\n",
    "            #save pandas dataframe as .csv\n",
    "            v.to_csv(file)\n",
    "            print(\"{} has been saved.\".format(filename))\n",
    "\n",
    "file_complete = interact(save_files, filepath=filepath)\n",
    "    "
   ]
  },
  {
   "cell_type": "code",
   "execution_count": null,
   "metadata": {},
   "outputs": [],
   "source": []
  },
  {
   "cell_type": "code",
   "execution_count": null,
   "metadata": {},
   "outputs": [],
   "source": []
  }
 ],
 "metadata": {
  "kernelspec": {
   "display_name": "Python 3",
   "language": "python",
   "name": "python3"
  },
  "language_info": {
   "codemirror_mode": {
    "name": "ipython",
    "version": 3
   },
   "file_extension": ".py",
   "mimetype": "text/x-python",
   "name": "python",
   "nbconvert_exporter": "python",
   "pygments_lexer": "ipython3",
   "version": "3.8.6"
  }
 },
 "nbformat": 4,
 "nbformat_minor": 4
}
