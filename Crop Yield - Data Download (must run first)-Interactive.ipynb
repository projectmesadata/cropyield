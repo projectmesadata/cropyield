{
 "cells": [
  {
   "cell_type": "code",
   "execution_count": 1,
   "metadata": {},
   "outputs": [
    {
     "data": {
      "text/html": [
       "<script>\n",
       "    // AUTORUN ALL CELLS ON NOTEBOOK-LOAD!\n",
       "    require(\n",
       "        ['base/js/namespace', 'jquery'], \n",
       "        function(jupyter, $) {\n",
       "            $(jupyter.events).on(\"kernel_ready.Kernel\", function () {\n",
       "                console.log(\"Auto-running all cells-below...\");\n",
       "                jupyter.actions.call('jupyter-notebook:run-all-cells-below');\n",
       "                jupyter.notebook.scroll_to_top();\n",
       "                jupyter.actions.call('jupyter-notebook:save-notebook');                \n",
       "                \n",
       "            });\n",
       "        });\n",
       "        \n",
       "        $( document ).ready(function(){\n",
       "        code_shown=false;\n",
       "        $('div.input').hide()});\n",
       "    \n",
       "    \n",
       "</script>\n"
      ],
      "text/plain": [
       "<IPython.core.display.HTML object>"
      ]
     },
     "metadata": {},
     "output_type": "display_data"
    }
   ],
   "source": [
    "%%html\n",
    "<script>\n",
    "    // AUTORUN ALL CELLS ON NOTEBOOK-LOAD!\n",
    "    require(\n",
    "        ['base/js/namespace', 'jquery'], \n",
    "        function(jupyter, $) {\n",
    "            $(jupyter.events).on(\"kernel_ready.Kernel\", function () {\n",
    "                console.log(\"Auto-running all cells-below...\");\n",
    "                jupyter.actions.call('jupyter-notebook:run-all-cells-below');\n",
    "                jupyter.notebook.scroll_to_top();\n",
    "                jupyter.actions.call('jupyter-notebook:save-notebook');                \n",
    "                \n",
    "            });\n",
    "        });\n",
    "        \n",
    "        $( document ).ready(function(){\n",
    "        code_shown=false;\n",
    "        $('div.input').hide()});\n",
    "    \n",
    "    \n",
    "</script>"
   ]
  },
  {
   "cell_type": "markdown",
   "metadata": {},
   "source": [
    "# Overview\n",
    "\n",
    "This program is designed to calculate potential crop yields based on a time frame and location specified by the user.\n",
    "\n",
    "It has three parts: \n",
    "* Data Download (must be done first) \n",
    "* Crop Yields at a Specific Location Over Time\n",
    "* Crop Yields over a Region at a Specific Time\n",
    "\n",
    "This file downloads climate datasets from the Famine Land Data Assimilation System (FLDAS)* operated by the U.S. National Air and Space Administration. This data can then be used to explore the water status and related soil condition in a given area over time as an indicator of crop yields.\n",
    "\n",
    "*McNally, A., Arsenault, K., Kumar, S., Shukla, S., Peterson, P., Wang, S., Funk, C., Peters-Lidard, C.D., & Verdin, J. P. (2017). A land data assimilation system for sub-Saharan Africa food and water security applications. Scientific Data, 4, 170012*\n"
   ]
  },
  {
   "cell_type": "markdown",
   "metadata": {},
   "source": [
    "## 2 Steps to Get a NASA Account and Download the Data\n",
    "\n",
    "1. An Earthdata username and password are required to run this program \n",
    "\n",
    ">[\"How to\" get an EarthData account](https://wiki.earthdata.nasa.gov/display/EL/How+To+Register+For+an+EarthData+Login+Profile)\n",
    "\n",
    "2. You must also activate data access **Failure to do this will give you an error in the other scripts**\n",
    "\n",
    ">[\"How To\" activate the archive download](https://disc.gsfc.nasa.gov/earthdata-login)\n",
    "\n",
    "***\n",
    "\n",
    "\\* [More information about FLDAS](https://ldas.gsfc.nasa.gov/FLDAS/)  \n",
    "\\* More details on Cropy Yield (under consturction)\n",
    "\n",
    "***\n",
    "\n",
    "\n"
   ]
  },
  {
   "cell_type": "markdown",
   "metadata": {},
   "source": [
    "## 0: The Dependencies\n",
    "\n",
    "This cell imports the python dependencies we use to download the data. It has already run. If you want to know which dependencies this code is using click Hide/Show Code. If you click the run cell button, the buttons for this cell will disappear. "
   ]
  },
  {
   "cell_type": "code",
   "execution_count": 2,
   "metadata": {},
   "outputs": [
    {
     "data": {
      "text/html": [
       "\n",
       "    <script>\n",
       "    function code_toggle() {\n",
       "        if ($('div.cell.code_cell.rendered.selected div.input').css('display') !='none'){\n",
       "            $('div.cell.code_cell.rendered.selected div.input').hide('500');\n",
       "        } else {\n",
       "            $('div.cell.code_cell.rendered.selected div.input').show('500');\n",
       "            \n",
       "        }\n",
       "        \n",
       "    }\n",
       "    </script>\n",
       "\n",
       "\n",
       "<form action=\"javascript:code_toggle()\"><input type=\"submit\" id=\"toggleButton\" value=\"Hide/Show Code\"></form>\n"
      ],
      "text/plain": [
       "<IPython.core.display.HTML object>"
      ]
     },
     "metadata": {},
     "output_type": "display_data"
    },
    {
     "data": {
      "text/html": [
       "\n",
       "<form action=\"javascript:Jupyter.notebook.execute_cell()\"><input type =\"submit\" id=\"runButton\" value=\"Run Cell\"></form>\n"
      ],
      "text/plain": [
       "<IPython.core.display.HTML object>"
      ]
     },
     "metadata": {},
     "output_type": "display_data"
    }
   ],
   "source": [
    "#Library downloads\n",
    "from toggle_code import toggle_code as hide_code\n",
    "from toggle_code import run_code as run_code\n",
    "\n",
    "import sys\n",
    "import time\n",
    "import json\n",
    "import urllib3\n",
    "import certifi\n",
    "import requests\n",
    "import time\n",
    "from time import sleep\n",
    "from http.cookiejar import CookieJar\n",
    "import urllib.request\n",
    "from urllib.parse import urlencode\n",
    "import datetime\n",
    "import requests\n",
    "import glob\n",
    "from io import StringIO\n",
    "import pandas as pd\n",
    "from netCDF4 import Dataset\n",
    "import numpy as np\n",
    "import os\n",
    "import cgi\n",
    "import ipywidgets as widgets\n",
    "from ipywidgets import interact"
   ]
  },
  {
   "cell_type": "markdown",
   "metadata": {},
   "source": [
    "## 1: Input Location and Time\n",
    "   \n",
    "To get the data for the location we will create a bounding box using the Latitude (East/West) and Longitude (North/South). To make a bounding box you want to get to the minimum and maximum latitudes and longitudes and the the code will turn these into the four corners of your box. \n",
    "\n",
    "The Latitude and Longitude can be found at several places. For example, [Google Maps](https://www.google.com/maps) where you can right click to identify the latitude, longitude or a website like [xwebtools](https://www.xwebtools.com/find-latitude-longitude-from-address/). \n",
    "\n",
    "You will need four points: \n",
    "* min longitude\n",
    "* max longitude\n",
    "* min latitude\n",
    "* max latitude\n",
    "\n",
    "This creates a bounding box around your area of interest. \n",
    "\n",
    "You will also need the time of the data you would like to download. The FLDAS dataset goes back over 30 years (1987).\n",
    "\n",
    "* start time in form yyyy-mm-dd \n",
    "* end time in form yyy-mm-dd\n",
    "\n"
   ]
  },
  {
   "cell_type": "code",
   "execution_count": 3,
   "metadata": {
    "code_folding": [
     0
    ]
   },
   "outputs": [
    {
     "data": {
      "text/html": [
       "\n",
       "<form action=\"javascript:code_toggle()\"><input type=\"submit\" id=\"toggleButton\" value=\"Hide/Show Code\"></form>\n"
      ],
      "text/plain": [
       "<IPython.core.display.HTML object>"
      ]
     },
     "metadata": {},
     "output_type": "display_data"
    },
    {
     "data": {
      "text/html": [
       "\n",
       "<form action=\"javascript:Jupyter.notebook.execute_cell()\"><input type =\"submit\" id=\"runButton\" value=\"Run Cell\"></form>\n"
      ],
      "text/plain": [
       "<IPython.core.display.HTML object>"
      ]
     },
     "metadata": {},
     "output_type": "display_data"
    },
    {
     "data": {
      "application/vnd.jupyter.widget-view+json": {
       "model_id": "2b86662ebece4bdeab13b165260d518a",
       "version_major": 2,
       "version_minor": 0
      },
      "text/plain": [
       "interactive(children=(FloatText(value=-3.199, description='Min Longitude:'), FloatText(value=18.949, descripti…"
      ]
     },
     "metadata": {},
     "output_type": "display_data"
    },
    {
     "data": {
      "application/vnd.jupyter.widget-view+json": {
       "model_id": "e9d8d61b38e64a88913a847ca211493c",
       "version_major": 2,
       "version_minor": 0
      },
      "text/plain": [
       "interactive(children=(Text(value='2019-01-01', description='Enter beginning time:', placeholder='Type somethin…"
      ]
     },
     "metadata": {},
     "output_type": "display_data"
    }
   ],
   "source": [
    "#This code is utilized to download the FLDAS datasets for climate data used in the pcse_part2 file\n",
    "\n",
    "hide_code()\n",
    "run_code()\n",
    "\n",
    "# Create a urllib PoolManager instance to make requests.\n",
    "http = urllib3.PoolManager(cert_reqs='CERT_REQUIRED',ca_certs=certifi.where())\n",
    "\n",
    "# Set the URL for the GES DISC subset service endpoint\n",
    "svcurl = 'https://disc.gsfc.nasa.gov/service/subset/jsonwsp'\n",
    "\n",
    "# Set the URL for the GES DISC subset service endpoint\n",
    "url = 'https://disc.gsfc.nasa.gov/service/subset/jsonwsp'\n",
    "\n",
    "# This method POSTs formatted JSON WSP requests to the GES DISC endpoint URL\n",
    "# It is created for convenience since this task will be repeated more than once\n",
    "def get_http_data(request):\n",
    "    hdrs = {'Content-Type': 'application/json',\n",
    "            'Accept'      : 'application/json'}\n",
    "    data = json.dumps(request)       \n",
    "    r = http.request('POST', url, body=data, headers=hdrs)\n",
    "    response = json.loads(r.data)   \n",
    "    # Check for errors\n",
    "    if response['type'] == 'jsonwsp/fault' :\n",
    "        print('API Error: faulty request')\n",
    "        sys.exit(1)\n",
    "    return response\n",
    "\n",
    "#Data inputs\n",
    "product = 'FLDAS_NOAH01_C_GL_M_001'\n",
    "varNames = ['SoilMoi00_10cm_tavg', 'SoilMoi10_40cm_tavg', 'Evap_tavg',\n",
    "            'Tair_f_tavg', 'Qair_f_tavg', 'SWdown_f_tavg', 'Lwnet_tavg', 'Wind_f_tavg']\n",
    "\n",
    "minlon = widgets.FloatText(\n",
    "    value=-3.199,\n",
    "    description='Min Longitude:',\n",
    "    disabled=False\n",
    ")\n",
    "\n",
    "maxlon = widgets.FloatText(\n",
    "    value=18.949,\n",
    "    description='Max Longitude:',\n",
    "    disabled=False\n",
    ")\n",
    "\n",
    "minlat = widgets.FloatText(\n",
    "    value=11.32,\n",
    "    description='Min Latitude:',\n",
    "    disabled=False\n",
    ")\n",
    "\n",
    "maxlat = widgets.FloatText(\n",
    "    value=23.801,\n",
    "    description='Max Latitude:',\n",
    "    disabled=False\n",
    ")\n",
    "\n",
    "\n",
    "#Example Time inputs\n",
    "#begTime = '2019-01-01'\n",
    "#endTime = '2020-01-01'\n",
    "\n",
    "begtime = widgets.Text(\n",
    "    value='2019-01-01',\n",
    "    placeholder='Type something',\n",
    "    description='Enter beginning time:',\n",
    "    disabled=False\n",
    ")\n",
    "\n",
    "endtime = widgets.Text(\n",
    "    value='2020-01-01',\n",
    "    placeholder='Type something',\n",
    "    description='Enter end time:',\n",
    "    disabled=False\n",
    ")\n",
    "#begTime = input(\"Enter beginning time ex:'2019-01-01': \")\n",
    "#endTime = input(\"Enter end time ex '2020-01-01': \")\n",
    "\n",
    "def build_bbox(minlon,maxlon,minlat,maxlat):\n",
    "    return [minlon,maxlon,minlat,maxlat]\n",
    "\n",
    "def get_time(begtime, endtime):\n",
    "    return [begtime,endtime]\n",
    "\n",
    "\n",
    "bbox = interact(build_bbox, minlon=minlon, maxlon=maxlon,minlat=minlat,maxlat=maxlat)\n",
    "time_list = interact(get_time, begtime=begtime, endtime=endtime)\n",
    "\n",
    "doMean = True\n",
    "#mapping and grid\n",
    "interp = 'remapbil'\n",
    "destGrid = 'cfsr0.5a'\n"
   ]
  },
  {
   "cell_type": "markdown",
   "metadata": {},
   "source": [
    "## 2. Requesting the information from NASA\n",
    "\n",
    "NASA's request process has three phases: \n",
    "1. Send the request to NASA and then they create a job\n",
    "2. Get a Job number as a url. This url is where your request is located. We will use this url to retireve your data.\n",
    "3. Repeat the process to get the elevation data, which is stored seperately.  \n",
    "\n",
    "### First we send the request"
   ]
  },
  {
   "cell_type": "code",
   "execution_count": 12,
   "metadata": {},
   "outputs": [
    {
     "data": {
      "text/html": [
       "\n",
       "<form action=\"javascript:code_toggle()\"><input type=\"submit\" id=\"toggleButton\" value=\"Hide/Show Code\"></form>\n"
      ],
      "text/plain": [
       "<IPython.core.display.HTML object>"
      ]
     },
     "metadata": {},
     "output_type": "display_data"
    },
    {
     "data": {
      "text/html": [
       "\n",
       "<form action=\"javascript:Jupyter.notebook.execute_cell()\"><input type =\"submit\" id=\"runButton\" value=\"Run Cell\"></form>\n"
      ],
      "text/plain": [
       "<IPython.core.display.HTML object>"
      ]
     },
     "metadata": {},
     "output_type": "display_data"
    },
    {
     "name": "stdout",
     "output_type": "stream",
     "text": [
      "Job ID: 5fe0eb9457cdd2107d61bf4e\n",
      "Job status: Accepted\n"
     ]
    }
   ],
   "source": [
    "hide_code()\n",
    "run_code()\n",
    "# This cell takes the provided paramters and converts into JSON request format. \n",
    "# Construct JSON WSP request for API method: subset\n",
    "# This cell takes the provided paramters and converts into JSON request format. \n",
    "# Construct JSON WSP request for API method: subset\n",
    "if ((maxlon.value-minlon.value)/4) * (maxlat.value - minlat.value) > 200: \n",
    "    print(\"Your request is too large. Please make your bounding box smaller and rerun.\")\n",
    "else: \n",
    "    subset_request = {\n",
    "        'methodname': 'subset',\n",
    "        'type': 'jsonwsp/request',\n",
    "        'version': '1.0',\n",
    "        'args': {\n",
    "            'role'  : 'subset',\n",
    "            'start' : begtime.value,\n",
    "            'end'   : endtime.value,\n",
    "            'box'   : [minlon.value, minlat.value, maxlon.value, maxlat.value],  \n",
    "            'crop'  : True,\n",
    "            'data'  : [{'datasetId': product,\n",
    "                        'variable' : varNames[0]#, \n",
    "                        #'slice'    : dimSlice\n",
    "                       },\n",
    "                       {'datasetId': product,\n",
    "                        'variable' : varNames[1]#,\n",
    "                        #'slice'    : dimSlice\n",
    "                       },\n",
    "                       {'datasetId': product,\n",
    "                        'variable' : varNames[2]\n",
    "                       },\n",
    "                       {'datasetId': product,\n",
    "                        'variable' : varNames[3]\n",
    "                       },\n",
    "                       {'datasetId': product,\n",
    "                        'variable' : varNames[4]\n",
    "                       },\n",
    "                       {'datasetId': product,\n",
    "                        'variable' : varNames[5]\n",
    "                       },\n",
    "                       {'datasetId': product,\n",
    "                        'variable' : varNames[6]\n",
    "                       },\n",
    "                       {'datasetId': product,\n",
    "                        'variable' : varNames[7]\n",
    "                       }]\n",
    "        }\n",
    "    }\n",
    "\n",
    "    try: \n",
    "        # Submit the subset request to the GES DISC Server\n",
    "        response = get_http_data(subset_request)\n",
    "\n",
    "        # Report the JobID and initial status\n",
    "        myJobId = response['result']['jobId']\n",
    "        print('Job ID: '+myJobId)\n",
    "        print('Job status: '+response['result']['Status'])\n",
    "    except: \n",
    "        print(\"There was an error talking to the website, please wait a few seconds and run the cell again.\")\n"
   ]
  },
  {
   "cell_type": "markdown",
   "metadata": {},
   "source": [
    "## 3. Verify Request is complete\n",
    "\n",
    "If request has not completed. This cell will continue to print \"Requesting.......\" until is complete. "
   ]
  },
  {
   "cell_type": "code",
   "execution_count": 13,
   "metadata": {
    "code_folding": [
     0
    ]
   },
   "outputs": [
    {
     "data": {
      "text/html": [
       "\n",
       "<form action=\"javascript:code_toggle()\"><input type=\"submit\" id=\"toggleButton\" value=\"Hide/Show Code\"></form>\n"
      ],
      "text/plain": [
       "<IPython.core.display.HTML object>"
      ]
     },
     "metadata": {},
     "output_type": "display_data"
    },
    {
     "data": {
      "text/html": [
       "\n",
       "<form action=\"javascript:Jupyter.notebook.execute_cell()\"><input type =\"submit\" id=\"runButton\" value=\"Run Cell\"></form>\n"
      ],
      "text/plain": [
       "<IPython.core.display.HTML object>"
      ]
     },
     "metadata": {},
     "output_type": "display_data"
    },
    {
     "name": "stdout",
     "output_type": "stream",
     "text": [
      "Requesting......\n",
      "Job status: Succeeded (100% complete)\n",
      "Job Finished:  Complete (FLDAS_NOAH01_C_GL_M_001)\n"
     ]
    }
   ],
   "source": [
    "hide_code()\n",
    "run_code()\n",
    "# Construct JSON WSP request for API method: GetStatus\n",
    "status_request = {\n",
    "    'methodname': 'GetStatus',\n",
    "    'version': '1.0',\n",
    "    'type': 'jsonwsp/request',\n",
    "    'args': {'jobId': myJobId}\n",
    "}\n",
    "\n",
    "# Check on the job status after a brief nap\n",
    "while response['result']['Status'] in ['Accepted', 'Running']: #Does this need \"Pending\"\n",
    "    print(\"Requesting......\")\n",
    "    sleep(5)\n",
    "    response = get_http_data(status_request)\n",
    "    status  = response['result']['Status']\n",
    "    percent = response['result']['PercentCompleted']\n",
    "    print ('Job status: %s (%d%c complete)' % (status,percent,'%'))\n",
    "\n",
    "if response['result']['Status'] == 'Succeeded' :\n",
    "    print ('Job Finished:  %s' % response['result']['message'])\n",
    "else : \n",
    "    print('Job Failed: %s' % response['fault']['code'])\n",
    "    sys.exit(1)"
   ]
  },
  {
   "cell_type": "markdown",
   "metadata": {},
   "source": [
    "## 4: Retrieve the hyper links where the data is stored"
   ]
  },
  {
   "cell_type": "code",
   "execution_count": 14,
   "metadata": {
    "code_folding": [
     0
    ]
   },
   "outputs": [
    {
     "data": {
      "text/html": [
       "\n",
       "<form action=\"javascript:code_toggle()\"><input type=\"submit\" id=\"toggleButton\" value=\"Hide/Show Code\"></form>\n"
      ],
      "text/plain": [
       "<IPython.core.display.HTML object>"
      ]
     },
     "metadata": {},
     "output_type": "display_data"
    },
    {
     "data": {
      "text/html": [
       "\n",
       "<form action=\"javascript:Jupyter.notebook.execute_cell()\"><input type =\"submit\" id=\"runButton\" value=\"Run Cell\"></form>\n"
      ],
      "text/plain": [
       "<IPython.core.display.HTML object>"
      ]
     },
     "metadata": {},
     "output_type": "display_data"
    },
    {
     "name": "stdout",
     "output_type": "stream",
     "text": [
      "Retrieved 24 out of 24 expected items\n",
      "\n",
      "https://hydro1.gesdisc.eosdis.nasa.gov/data/FLDAS/FLDAS_NOAH01_C_GL_M.001/doc/README_FLDAS.pdf\r\n",
      "\n",
      "https://hydro1.gesdisc.eosdis.nasa.gov/daac-bin/OTF/HTTP_services.cgi?FILENAME=%2Fdata%2FFLDAS%2FFLDAS_NOAH01_C_GL_M.001%2F2019%2FFLDAS_NOAH01_C_GL_M.A201901.001.nc&FORMAT=bmM0Lw&BBOX=11.32%2C-3.199%2C23.801%2C18.949&LABEL=FLDAS_NOAH01_C_GL_M.A201901.001.nc.SUB.nc4&SHORTNAME=FLDAS_NOAH01_C_GL_M&SERVICE=L34RS_LDAS&VERSION=1.02&DATASET_VERSION=001&VARIABLES=SoilMoi00_10cm_tavg%2CSoilMoi10_40cm_tavg%2CEvap_tavg%2CTair_f_tavg%2CQair_f_tavg%2CSWdown_f_tavg%2CLwnet_tavg%2CWind_f_tavg\r\n",
      "\n",
      "https://hydro1.gesdisc.eosdis.nasa.gov/daac-bin/OTF/HTTP_services.cgi?FILENAME=%2Fdata%2FFLDAS%2FFLDAS_NOAH01_C_GL_M.001%2F2019%2FFLDAS_NOAH01_C_GL_M.A201902.001.nc&FORMAT=bmM0Lw&BBOX=11.32%2C-3.199%2C23.801%2C18.949&LABEL=FLDAS_NOAH01_C_GL_M.A201902.001.nc.SUB.nc4&SHORTNAME=FLDAS_NOAH01_C_GL_M&SERVICE=L34RS_LDAS&VERSION=1.02&DATASET_VERSION=001&VARIABLES=SoilMoi00_10cm_tavg%2CSoilMoi10_40cm_tavg%2CEvap_tavg%2CTair_f_tavg%2CQair_f_tavg%2CSWdown_f_tavg%2CLwnet_tavg%2CWind_f_tavg\r\n",
      "\n",
      "https://hydro1.gesdisc.eosdis.nasa.gov/daac-bin/OTF/HTTP_services.cgi?FILENAME=%2Fdata%2FFLDAS%2FFLDAS_NOAH01_C_GL_M.001%2F2019%2FFLDAS_NOAH01_C_GL_M.A201903.001.nc&FORMAT=bmM0Lw&BBOX=11.32%2C-3.199%2C23.801%2C18.949&LABEL=FLDAS_NOAH01_C_GL_M.A201903.001.nc.SUB.nc4&SHORTNAME=FLDAS_NOAH01_C_GL_M&SERVICE=L34RS_LDAS&VERSION=1.02&DATASET_VERSION=001&VARIABLES=SoilMoi00_10cm_tavg%2CSoilMoi10_40cm_tavg%2CEvap_tavg%2CTair_f_tavg%2CQair_f_tavg%2CSWdown_f_tavg%2CLwnet_tavg%2CWind_f_tavg\r\n",
      "\n",
      "https://hydro1.gesdisc.eosdis.nasa.gov/daac-bin/OTF/HTTP_services.cgi?FILENAME=%2Fdata%2FFLDAS%2FFLDAS_NOAH01_C_GL_M.001%2F2019%2FFLDAS_NOAH01_C_GL_M.A201904.001.nc&FORMAT=bmM0Lw&BBOX=11.32%2C-3.199%2C23.801%2C18.949&LABEL=FLDAS_NOAH01_C_GL_M.A201904.001.nc.SUB.nc4&SHORTNAME=FLDAS_NOAH01_C_GL_M&SERVICE=L34RS_LDAS&VERSION=1.02&DATASET_VERSION=001&VARIABLES=SoilMoi00_10cm_tavg%2CSoilMoi10_40cm_tavg%2CEvap_tavg%2CTair_f_tavg%2CQair_f_tavg%2CSWdown_f_tavg%2CLwnet_tavg%2CWind_f_tavg\r\n",
      "\n",
      "https://hydro1.gesdisc.eosdis.nasa.gov/daac-bin/OTF/HTTP_services.cgi?FILENAME=%2Fdata%2FFLDAS%2FFLDAS_NOAH01_C_GL_M.001%2F2019%2FFLDAS_NOAH01_C_GL_M.A201905.001.nc&FORMAT=bmM0Lw&BBOX=11.32%2C-3.199%2C23.801%2C18.949&LABEL=FLDAS_NOAH01_C_GL_M.A201905.001.nc.SUB.nc4&SHORTNAME=FLDAS_NOAH01_C_GL_M&SERVICE=L34RS_LDAS&VERSION=1.02&DATASET_VERSION=001&VARIABLES=SoilMoi00_10cm_tavg%2CSoilMoi10_40cm_tavg%2CEvap_tavg%2CTair_f_tavg%2CQair_f_tavg%2CSWdown_f_tavg%2CLwnet_tavg%2CWind_f_tavg\r\n",
      "\n",
      "https://hydro1.gesdisc.eosdis.nasa.gov/daac-bin/OTF/HTTP_services.cgi?FILENAME=%2Fdata%2FFLDAS%2FFLDAS_NOAH01_C_GL_M.001%2F2019%2FFLDAS_NOAH01_C_GL_M.A201906.001.nc&FORMAT=bmM0Lw&BBOX=11.32%2C-3.199%2C23.801%2C18.949&LABEL=FLDAS_NOAH01_C_GL_M.A201906.001.nc.SUB.nc4&SHORTNAME=FLDAS_NOAH01_C_GL_M&SERVICE=L34RS_LDAS&VERSION=1.02&DATASET_VERSION=001&VARIABLES=SoilMoi00_10cm_tavg%2CSoilMoi10_40cm_tavg%2CEvap_tavg%2CTair_f_tavg%2CQair_f_tavg%2CSWdown_f_tavg%2CLwnet_tavg%2CWind_f_tavg\r\n",
      "\n",
      "https://hydro1.gesdisc.eosdis.nasa.gov/daac-bin/OTF/HTTP_services.cgi?FILENAME=%2Fdata%2FFLDAS%2FFLDAS_NOAH01_C_GL_M.001%2F2019%2FFLDAS_NOAH01_C_GL_M.A201907.001.nc&FORMAT=bmM0Lw&BBOX=11.32%2C-3.199%2C23.801%2C18.949&LABEL=FLDAS_NOAH01_C_GL_M.A201907.001.nc.SUB.nc4&SHORTNAME=FLDAS_NOAH01_C_GL_M&SERVICE=L34RS_LDAS&VERSION=1.02&DATASET_VERSION=001&VARIABLES=SoilMoi00_10cm_tavg%2CSoilMoi10_40cm_tavg%2CEvap_tavg%2CTair_f_tavg%2CQair_f_tavg%2CSWdown_f_tavg%2CLwnet_tavg%2CWind_f_tavg\r\n",
      "\n",
      "https://hydro1.gesdisc.eosdis.nasa.gov/daac-bin/OTF/HTTP_services.cgi?FILENAME=%2Fdata%2FFLDAS%2FFLDAS_NOAH01_C_GL_M.001%2F2019%2FFLDAS_NOAH01_C_GL_M.A201908.001.nc&FORMAT=bmM0Lw&BBOX=11.32%2C-3.199%2C23.801%2C18.949&LABEL=FLDAS_NOAH01_C_GL_M.A201908.001.nc.SUB.nc4&SHORTNAME=FLDAS_NOAH01_C_GL_M&SERVICE=L34RS_LDAS&VERSION=1.02&DATASET_VERSION=001&VARIABLES=SoilMoi00_10cm_tavg%2CSoilMoi10_40cm_tavg%2CEvap_tavg%2CTair_f_tavg%2CQair_f_tavg%2CSWdown_f_tavg%2CLwnet_tavg%2CWind_f_tavg\r\n",
      "\n",
      "https://hydro1.gesdisc.eosdis.nasa.gov/daac-bin/OTF/HTTP_services.cgi?FILENAME=%2Fdata%2FFLDAS%2FFLDAS_NOAH01_C_GL_M.001%2F2019%2FFLDAS_NOAH01_C_GL_M.A201909.001.nc&FORMAT=bmM0Lw&BBOX=11.32%2C-3.199%2C23.801%2C18.949&LABEL=FLDAS_NOAH01_C_GL_M.A201909.001.nc.SUB.nc4&SHORTNAME=FLDAS_NOAH01_C_GL_M&SERVICE=L34RS_LDAS&VERSION=1.02&DATASET_VERSION=001&VARIABLES=SoilMoi00_10cm_tavg%2CSoilMoi10_40cm_tavg%2CEvap_tavg%2CTair_f_tavg%2CQair_f_tavg%2CSWdown_f_tavg%2CLwnet_tavg%2CWind_f_tavg\r\n",
      "\n",
      "https://hydro1.gesdisc.eosdis.nasa.gov/daac-bin/OTF/HTTP_services.cgi?FILENAME=%2Fdata%2FFLDAS%2FFLDAS_NOAH01_C_GL_M.001%2F2019%2FFLDAS_NOAH01_C_GL_M.A201910.001.nc&FORMAT=bmM0Lw&BBOX=11.32%2C-3.199%2C23.801%2C18.949&LABEL=FLDAS_NOAH01_C_GL_M.A201910.001.nc.SUB.nc4&SHORTNAME=FLDAS_NOAH01_C_GL_M&SERVICE=L34RS_LDAS&VERSION=1.02&DATASET_VERSION=001&VARIABLES=SoilMoi00_10cm_tavg%2CSoilMoi10_40cm_tavg%2CEvap_tavg%2CTair_f_tavg%2CQair_f_tavg%2CSWdown_f_tavg%2CLwnet_tavg%2CWind_f_tavg\r\n",
      "\n",
      "https://hydro1.gesdisc.eosdis.nasa.gov/daac-bin/OTF/HTTP_services.cgi?FILENAME=%2Fdata%2FFLDAS%2FFLDAS_NOAH01_C_GL_M.001%2F2019%2FFLDAS_NOAH01_C_GL_M.A201911.001.nc&FORMAT=bmM0Lw&BBOX=11.32%2C-3.199%2C23.801%2C18.949&LABEL=FLDAS_NOAH01_C_GL_M.A201911.001.nc.SUB.nc4&SHORTNAME=FLDAS_NOAH01_C_GL_M&SERVICE=L34RS_LDAS&VERSION=1.02&DATASET_VERSION=001&VARIABLES=SoilMoi00_10cm_tavg%2CSoilMoi10_40cm_tavg%2CEvap_tavg%2CTair_f_tavg%2CQair_f_tavg%2CSWdown_f_tavg%2CLwnet_tavg%2CWind_f_tavg\r\n",
      "\n",
      "https://hydro1.gesdisc.eosdis.nasa.gov/daac-bin/OTF/HTTP_services.cgi?FILENAME=%2Fdata%2FFLDAS%2FFLDAS_NOAH01_C_GL_M.001%2F2019%2FFLDAS_NOAH01_C_GL_M.A201912.001.nc&FORMAT=bmM0Lw&BBOX=11.32%2C-3.199%2C23.801%2C18.949&LABEL=FLDAS_NOAH01_C_GL_M.A201912.001.nc.SUB.nc4&SHORTNAME=FLDAS_NOAH01_C_GL_M&SERVICE=L34RS_LDAS&VERSION=1.02&DATASET_VERSION=001&VARIABLES=SoilMoi00_10cm_tavg%2CSoilMoi10_40cm_tavg%2CEvap_tavg%2CTair_f_tavg%2CQair_f_tavg%2CSWdown_f_tavg%2CLwnet_tavg%2CWind_f_tavg\r\n",
      "\n",
      "https://hydro1.gesdisc.eosdis.nasa.gov/daac-bin/OTF/HTTP_services.cgi?FILENAME=%2Fdata%2FFLDAS%2FFLDAS_NOAH01_C_GL_M.001%2F2020%2FFLDAS_NOAH01_C_GL_M.A202001.001.nc&FORMAT=bmM0Lw&BBOX=11.32%2C-3.199%2C23.801%2C18.949&LABEL=FLDAS_NOAH01_C_GL_M.A202001.001.nc.SUB.nc4&SHORTNAME=FLDAS_NOAH01_C_GL_M&SERVICE=L34RS_LDAS&VERSION=1.02&DATASET_VERSION=001&VARIABLES=SoilMoi00_10cm_tavg%2CSoilMoi10_40cm_tavg%2CEvap_tavg%2CTair_f_tavg%2CQair_f_tavg%2CSWdown_f_tavg%2CLwnet_tavg%2CWind_f_tavg\r\n",
      "\n",
      "https://hydro1.gesdisc.eosdis.nasa.gov/daac-bin/OTF/HTTP_services.cgi?FILENAME=%2Fdata%2FFLDAS%2FFLDAS_NOAH01_C_GL_M.001%2F2020%2FFLDAS_NOAH01_C_GL_M.A202002.001.nc&FORMAT=bmM0Lw&BBOX=11.32%2C-3.199%2C23.801%2C18.949&LABEL=FLDAS_NOAH01_C_GL_M.A202002.001.nc.SUB.nc4&SHORTNAME=FLDAS_NOAH01_C_GL_M&SERVICE=L34RS_LDAS&VERSION=1.02&DATASET_VERSION=001&VARIABLES=SoilMoi00_10cm_tavg%2CSoilMoi10_40cm_tavg%2CEvap_tavg%2CTair_f_tavg%2CQair_f_tavg%2CSWdown_f_tavg%2CLwnet_tavg%2CWind_f_tavg\r\n",
      "\n",
      "https://hydro1.gesdisc.eosdis.nasa.gov/daac-bin/OTF/HTTP_services.cgi?FILENAME=%2Fdata%2FFLDAS%2FFLDAS_NOAH01_C_GL_M.001%2F2020%2FFLDAS_NOAH01_C_GL_M.A202003.001.nc&FORMAT=bmM0Lw&BBOX=11.32%2C-3.199%2C23.801%2C18.949&LABEL=FLDAS_NOAH01_C_GL_M.A202003.001.nc.SUB.nc4&SHORTNAME=FLDAS_NOAH01_C_GL_M&SERVICE=L34RS_LDAS&VERSION=1.02&DATASET_VERSION=001&VARIABLES=SoilMoi00_10cm_tavg%2CSoilMoi10_40cm_tavg%2CEvap_tavg%2CTair_f_tavg%2CQair_f_tavg%2CSWdown_f_tavg%2CLwnet_tavg%2CWind_f_tavg\r\n",
      "\n",
      "https://hydro1.gesdisc.eosdis.nasa.gov/daac-bin/OTF/HTTP_services.cgi?FILENAME=%2Fdata%2FFLDAS%2FFLDAS_NOAH01_C_GL_M.001%2F2020%2FFLDAS_NOAH01_C_GL_M.A202004.001.nc&FORMAT=bmM0Lw&BBOX=11.32%2C-3.199%2C23.801%2C18.949&LABEL=FLDAS_NOAH01_C_GL_M.A202004.001.nc.SUB.nc4&SHORTNAME=FLDAS_NOAH01_C_GL_M&SERVICE=L34RS_LDAS&VERSION=1.02&DATASET_VERSION=001&VARIABLES=SoilMoi00_10cm_tavg%2CSoilMoi10_40cm_tavg%2CEvap_tavg%2CTair_f_tavg%2CQair_f_tavg%2CSWdown_f_tavg%2CLwnet_tavg%2CWind_f_tavg\r\n",
      "\n",
      "https://hydro1.gesdisc.eosdis.nasa.gov/daac-bin/OTF/HTTP_services.cgi?FILENAME=%2Fdata%2FFLDAS%2FFLDAS_NOAH01_C_GL_M.001%2F2020%2FFLDAS_NOAH01_C_GL_M.A202005.001.nc&FORMAT=bmM0Lw&BBOX=11.32%2C-3.199%2C23.801%2C18.949&LABEL=FLDAS_NOAH01_C_GL_M.A202005.001.nc.SUB.nc4&SHORTNAME=FLDAS_NOAH01_C_GL_M&SERVICE=L34RS_LDAS&VERSION=1.02&DATASET_VERSION=001&VARIABLES=SoilMoi00_10cm_tavg%2CSoilMoi10_40cm_tavg%2CEvap_tavg%2CTair_f_tavg%2CQair_f_tavg%2CSWdown_f_tavg%2CLwnet_tavg%2CWind_f_tavg\r\n",
      "\n",
      "https://hydro1.gesdisc.eosdis.nasa.gov/daac-bin/OTF/HTTP_services.cgi?FILENAME=%2Fdata%2FFLDAS%2FFLDAS_NOAH01_C_GL_M.001%2F2020%2FFLDAS_NOAH01_C_GL_M.A202006.001.nc&FORMAT=bmM0Lw&BBOX=11.32%2C-3.199%2C23.801%2C18.949&LABEL=FLDAS_NOAH01_C_GL_M.A202006.001.nc.SUB.nc4&SHORTNAME=FLDAS_NOAH01_C_GL_M&SERVICE=L34RS_LDAS&VERSION=1.02&DATASET_VERSION=001&VARIABLES=SoilMoi00_10cm_tavg%2CSoilMoi10_40cm_tavg%2CEvap_tavg%2CTair_f_tavg%2CQair_f_tavg%2CSWdown_f_tavg%2CLwnet_tavg%2CWind_f_tavg\r\n",
      "\n",
      "https://hydro1.gesdisc.eosdis.nasa.gov/daac-bin/OTF/HTTP_services.cgi?FILENAME=%2Fdata%2FFLDAS%2FFLDAS_NOAH01_C_GL_M.001%2F2020%2FFLDAS_NOAH01_C_GL_M.A202007.001.nc&FORMAT=bmM0Lw&BBOX=11.32%2C-3.199%2C23.801%2C18.949&LABEL=FLDAS_NOAH01_C_GL_M.A202007.001.nc.SUB.nc4&SHORTNAME=FLDAS_NOAH01_C_GL_M&SERVICE=L34RS_LDAS&VERSION=1.02&DATASET_VERSION=001&VARIABLES=SoilMoi00_10cm_tavg%2CSoilMoi10_40cm_tavg%2CEvap_tavg%2CTair_f_tavg%2CQair_f_tavg%2CSWdown_f_tavg%2CLwnet_tavg%2CWind_f_tavg\r\n",
      "\n",
      "https://hydro1.gesdisc.eosdis.nasa.gov/daac-bin/OTF/HTTP_services.cgi?FILENAME=%2Fdata%2FFLDAS%2FFLDAS_NOAH01_C_GL_M.001%2F2020%2FFLDAS_NOAH01_C_GL_M.A202008.001.nc&FORMAT=bmM0Lw&BBOX=11.32%2C-3.199%2C23.801%2C18.949&LABEL=FLDAS_NOAH01_C_GL_M.A202008.001.nc.SUB.nc4&SHORTNAME=FLDAS_NOAH01_C_GL_M&SERVICE=L34RS_LDAS&VERSION=1.02&DATASET_VERSION=001&VARIABLES=SoilMoi00_10cm_tavg%2CSoilMoi10_40cm_tavg%2CEvap_tavg%2CTair_f_tavg%2CQair_f_tavg%2CSWdown_f_tavg%2CLwnet_tavg%2CWind_f_tavg\r\n",
      "\n",
      "https://hydro1.gesdisc.eosdis.nasa.gov/daac-bin/OTF/HTTP_services.cgi?FILENAME=%2Fdata%2FFLDAS%2FFLDAS_NOAH01_C_GL_M.001%2F2020%2FFLDAS_NOAH01_C_GL_M.A202009.001.nc&FORMAT=bmM0Lw&BBOX=11.32%2C-3.199%2C23.801%2C18.949&LABEL=FLDAS_NOAH01_C_GL_M.A202009.001.nc.SUB.nc4&SHORTNAME=FLDAS_NOAH01_C_GL_M&SERVICE=L34RS_LDAS&VERSION=1.02&DATASET_VERSION=001&VARIABLES=SoilMoi00_10cm_tavg%2CSoilMoi10_40cm_tavg%2CEvap_tavg%2CTair_f_tavg%2CQair_f_tavg%2CSWdown_f_tavg%2CLwnet_tavg%2CWind_f_tavg\r\n",
      "\n",
      "https://hydro1.gesdisc.eosdis.nasa.gov/daac-bin/OTF/HTTP_services.cgi?FILENAME=%2Fdata%2FFLDAS%2FFLDAS_NOAH01_C_GL_M.001%2F2020%2FFLDAS_NOAH01_C_GL_M.A202010.001.nc&FORMAT=bmM0Lw&BBOX=11.32%2C-3.199%2C23.801%2C18.949&LABEL=FLDAS_NOAH01_C_GL_M.A202010.001.nc.SUB.nc4&SHORTNAME=FLDAS_NOAH01_C_GL_M&SERVICE=L34RS_LDAS&VERSION=1.02&DATASET_VERSION=001&VARIABLES=SoilMoi00_10cm_tavg%2CSoilMoi10_40cm_tavg%2CEvap_tavg%2CTair_f_tavg%2CQair_f_tavg%2CSWdown_f_tavg%2CLwnet_tavg%2CWind_f_tavg\r\n",
      "\n",
      "https://hydro1.gesdisc.eosdis.nasa.gov/daac-bin/OTF/HTTP_services.cgi?FILENAME=%2Fdata%2FFLDAS%2FFLDAS_NOAH01_C_GL_M.001%2F2020%2FFLDAS_NOAH01_C_GL_M.A202011.001.nc&FORMAT=bmM0Lw&BBOX=11.32%2C-3.199%2C23.801%2C18.949&LABEL=FLDAS_NOAH01_C_GL_M.A202011.001.nc.SUB.nc4&SHORTNAME=FLDAS_NOAH01_C_GL_M&SERVICE=L34RS_LDAS&VERSION=1.02&DATASET_VERSION=001&VARIABLES=SoilMoi00_10cm_tavg%2CSoilMoi10_40cm_tavg%2CEvap_tavg%2CTair_f_tavg%2CQair_f_tavg%2CSWdown_f_tavg%2CLwnet_tavg%2CWind_f_tavg\n"
     ]
    }
   ],
   "source": [
    "hide_code()\n",
    "run_code()\n",
    "# Construct JSON WSP request for API method: GetResult\n",
    "batchsize = 20\n",
    "results_request = {\n",
    "    'methodname': 'GetResult',\n",
    "    'version': '1.0',\n",
    "    'type': 'jsonwsp/request',\n",
    "    'args': {\n",
    "        'jobId': myJobId,\n",
    "        'count': batchsize,\n",
    "        'startIndex': 0\n",
    "    }\n",
    "}\n",
    "\n",
    "# Retrieve the results in JSON in multiple batches \n",
    "# Initialize variables, then submit the first GetResults request\n",
    "# Add the results from this batch to the list and increment the count\n",
    "results = []\n",
    "count = 0 \n",
    "response = get_http_data(results_request) \n",
    "count = count + response['result']['itemsPerPage']\n",
    "results.extend(response['result']['items']) \n",
    "\n",
    "# Increment the startIndex and keep asking for more results until we have them all\n",
    "total = response['result']['totalResults']\n",
    "while count < total :\n",
    "    results_request['args']['startIndex'] += batchsize \n",
    "    response = get_http_data(results_request) \n",
    "    count = count + response['result']['itemsPerPage']\n",
    "    results.extend(response['result']['items'])\n",
    "        \n",
    "# Check on the bookkeeping\n",
    "print('Retrieved %d out of %d expected items' % (len(results), total))\n",
    "\n",
    "# Retrieve a plain-text list of results in a single shot using the saved JobID\n",
    "#these are all the downloadable links/data sets\n",
    "result = requests.get('https://disc.gsfc.nasa.gov/api/jobs/results/'+myJobId)\n",
    "try:\n",
    "    result.raise_for_status()\n",
    "    urls = result.text.split('\\n')\n",
    "    for i in urls : print('\\n%s' % i)\n",
    "except :\n",
    "    print('Request returned error code %d' % result.status_code)"
   ]
  },
  {
   "cell_type": "markdown",
   "metadata": {},
   "source": [
    "## 5: Download the datasets\n",
    "\n",
    "First you need to enter your username and password. Do not hit return after entering. You just need to type in the username and password and will see them dynamically update below the fields."
   ]
  },
  {
   "cell_type": "code",
   "execution_count": 16,
   "metadata": {},
   "outputs": [
    {
     "data": {
      "text/html": [
       "\n",
       "<form action=\"javascript:code_toggle()\"><input type=\"submit\" id=\"toggleButton\" value=\"Hide/Show Code\"></form>\n"
      ],
      "text/plain": [
       "<IPython.core.display.HTML object>"
      ]
     },
     "metadata": {},
     "output_type": "display_data"
    },
    {
     "data": {
      "text/html": [
       "\n",
       "<form action=\"javascript:Jupyter.notebook.execute_cell()\"><input type =\"submit\" id=\"runButton\" value=\"Run Cell\"></form>\n"
      ],
      "text/plain": [
       "<IPython.core.display.HTML object>"
      ]
     },
     "metadata": {},
     "output_type": "display_data"
    },
    {
     "data": {
      "application/vnd.jupyter.widget-view+json": {
       "model_id": "e0031fff56134e7f9591a1b794c71510",
       "version_major": 2,
       "version_minor": 0
      },
      "text/plain": [
       "interactive(children=(Text(value='username', description='Enter Username:', placeholder='Type something', styl…"
      ]
     },
     "metadata": {},
     "output_type": "display_data"
    }
   ],
   "source": [
    "hide_code()\n",
    "run_code()\n",
    "\n",
    "#Allows for longer description\n",
    "style = {'description_width': 'initial'}\n",
    "user_in = widgets.Text(\n",
    "    value='username',\n",
    "    placeholder='Type something',\n",
    "    description='Enter Username:',\n",
    "    disabled=False,\n",
    "    style = style\n",
    ")\n",
    "\n",
    "pass_in= widgets.Text(\n",
    "    value='password',\n",
    "    placeholder='Type something',\n",
    "    description='Enter Password:',\n",
    "    disabled=False,\n",
    "    style = style\n",
    ")\n",
    "\n",
    "def get_cred(user,passw):\n",
    "    return [user, passw]\n",
    "\n",
    "creds = interact(get_cred, user=user_in, passw=pass_in)"
   ]
  },
  {
   "cell_type": "markdown",
   "metadata": {},
   "source": [
    "Now we are going to iterate through each hyperlink and download the data to a folder called data in your local drive."
   ]
  },
  {
   "cell_type": "code",
   "execution_count": 17,
   "metadata": {
    "code_folding": [
     0
    ]
   },
   "outputs": [
    {
     "data": {
      "text/html": [
       "\n",
       "<form action=\"javascript:code_toggle()\"><input type=\"submit\" id=\"toggleButton\" value=\"Hide/Show Code\"></form>\n"
      ],
      "text/plain": [
       "<IPython.core.display.HTML object>"
      ]
     },
     "metadata": {},
     "output_type": "display_data"
    },
    {
     "data": {
      "text/html": [
       "\n",
       "<form action=\"javascript:Jupyter.notebook.execute_cell()\"><input type =\"submit\" id=\"runButton\" value=\"Run Cell\"></form>\n"
      ],
      "text/plain": [
       "<IPython.core.display.HTML object>"
      ]
     },
     "metadata": {},
     "output_type": "display_data"
    },
    {
     "name": "stdout",
     "output_type": "stream",
     "text": [
      "\n",
      "Documentation:\n",
      "README Document: https://hydro1.gesdisc.eosdis.nasa.gov/data/FLDAS/FLDAS_NOAH01_C_GL_M.001/doc/README_FLDAS.pdf\n",
      "\n",
      "HTTP_services output: \n",
      "\n",
      "data\\FLDAS_NOAH01_C_GL_M.A201901.001.nc.SUB.nc4 has downloaded\n",
      "data\\FLDAS_NOAH01_C_GL_M.A201902.001.nc.SUB.nc4 has downloaded\n",
      "data\\FLDAS_NOAH01_C_GL_M.A201903.001.nc.SUB.nc4 has downloaded\n",
      "data\\FLDAS_NOAH01_C_GL_M.A201904.001.nc.SUB.nc4 has downloaded\n",
      "data\\FLDAS_NOAH01_C_GL_M.A201905.001.nc.SUB.nc4 has downloaded\n",
      "data\\FLDAS_NOAH01_C_GL_M.A201906.001.nc.SUB.nc4 has downloaded\n",
      "data\\FLDAS_NOAH01_C_GL_M.A201907.001.nc.SUB.nc4 has downloaded\n",
      "data\\FLDAS_NOAH01_C_GL_M.A201908.001.nc.SUB.nc4 has downloaded\n",
      "data\\FLDAS_NOAH01_C_GL_M.A201909.001.nc.SUB.nc4 has downloaded\n",
      "data\\FLDAS_NOAH01_C_GL_M.A201910.001.nc.SUB.nc4 has downloaded\n",
      "data\\FLDAS_NOAH01_C_GL_M.A201911.001.nc.SUB.nc4 has downloaded\n",
      "data\\FLDAS_NOAH01_C_GL_M.A201912.001.nc.SUB.nc4 has downloaded\n",
      "data\\FLDAS_NOAH01_C_GL_M.A202001.001.nc.SUB.nc4 has downloaded\n",
      "data\\FLDAS_NOAH01_C_GL_M.A202002.001.nc.SUB.nc4 has downloaded\n",
      "data\\FLDAS_NOAH01_C_GL_M.A202003.001.nc.SUB.nc4 has downloaded\n",
      "data\\FLDAS_NOAH01_C_GL_M.A202004.001.nc.SUB.nc4 has downloaded\n",
      "data\\FLDAS_NOAH01_C_GL_M.A202005.001.nc.SUB.nc4 has downloaded\n",
      "data\\FLDAS_NOAH01_C_GL_M.A202006.001.nc.SUB.nc4 has downloaded\n",
      "data\\FLDAS_NOAH01_C_GL_M.A202007.001.nc.SUB.nc4 has downloaded\n",
      "data\\FLDAS_NOAH01_C_GL_M.A202008.001.nc.SUB.nc4 has downloaded\n",
      "data\\FLDAS_NOAH01_C_GL_M.A202009.001.nc.SUB.nc4 has downloaded\n",
      "data\\FLDAS_NOAH01_C_GL_M.A202010.001.nc.SUB.nc4 has downloaded\n",
      "data\\FLDAS_NOAH01_C_GL_M.A202011.001.nc.SUB.nc4 has downloaded\n",
      "\n",
      " Finished Downloading All Files\n"
     ]
    }
   ],
   "source": [
    "hide_code()\n",
    "run_code()# Sort the results into documents and URLs\n",
    "# We only want the URLS with data, not the readmes\n",
    "docs = []\n",
    "urls = []\n",
    "for item in results :\n",
    "    try:\n",
    "        if item['start'] and item['end'] : urls.append(item) \n",
    "    except:\n",
    "        docs.append(item)\n",
    "\n",
    "# Print out the documentation links, but do not download them\n",
    "print('\\nDocumentation:')\n",
    "for item in docs : print(item['label']+': '+item['link'])\n",
    "    \n",
    "# Create a password manager to deal with the 401 response that is returned from\n",
    "# Earthdata Login\n",
    "#put in you username and passwoord here to login to GESDISC\n",
    "#username = \"\"\n",
    "#password = \"\"\n",
    "\n",
    "username = user_in.value\n",
    "password = pass_in.value\n",
    "\n",
    "password_manager = urllib.request.HTTPPasswordMgrWithDefaultRealm()\n",
    "password_manager.add_password(None, \"https://urs.earthdata.nasa.gov\", username, password)\n",
    "\n",
    "# Create a cookie jar for storing cookies. This is used to store and return the session cookie\n",
    "# given to use by the data server\n",
    "cookie_jar = CookieJar()\n",
    "   \n",
    "#Prevent cell from erroring on 1st run \n",
    "if username == \"username\":\n",
    "    print(\"Waiting for Inputs\")\n",
    "else:\n",
    "    #create direcotry\n",
    "    os.makedirs(\"data\", exist_ok=True) \n",
    "    \n",
    "    # Install all the handlers.\n",
    "    opener = urllib.request.build_opener (urllib.request.HTTPBasicAuthHandler (password_manager),urllib.request.HTTPCookieProcessor (cookie_jar))\n",
    "    urllib.request.install_opener(opener)\n",
    "\n",
    "    # Open a request for the data, and download files\n",
    "    print('\\nHTTP_services output: \\n')\n",
    "    for item in urls:\n",
    "        URL = item['link'] \n",
    "        DataRequest = urllib.request.Request(URL)\n",
    "        DataResponse = urllib.request.urlopen(DataRequest)\n",
    "\n",
    "    # Print out the result\n",
    "        DataBody = DataResponse.read()        \n",
    "        # Save file to working directory\n",
    "        try:\n",
    "            filename = item['label']\n",
    "            filepath = os.path.join(\"data\", filename) \n",
    "            file_ = open(filepath, 'wb')\n",
    "            file_.write(DataBody)\n",
    "            file_.close()\n",
    "            print (filepath, \"has downloaded\")\n",
    "        except requests.exceptions.HTTPError as e:\n",
    "             print(e)\n",
    "\n",
    "    print('\\n Finished Downloading All Files')"
   ]
  },
  {
   "cell_type": "markdown",
   "metadata": {
    "code_folding": [
     0
    ]
   },
   "source": [
    "## 6: Get elevation data.\n",
    "\n",
    "Elevation data is necessary for the calculations in the crop yield notebooks. To get it we will again make a request via NASA but we will be going to a different dataset [AppEEARS](https://lpdaacsvc.cr.usgs.gov/appeears/). \n",
    "\n",
    "Due to the differences in how the data is managed, this series of request will take longer to process and depending on the size of your request may result in several messages to the email associated with your log in tell you the request is submitted and when it is processed.  \n",
    "\n",
    "### Make the request"
   ]
  },
  {
   "cell_type": "code",
   "execution_count": 18,
   "metadata": {},
   "outputs": [
    {
     "data": {
      "text/html": [
       "\n",
       "<form action=\"javascript:code_toggle()\"><input type=\"submit\" id=\"toggleButton\" value=\"Hide/Show Code\"></form>\n"
      ],
      "text/plain": [
       "<IPython.core.display.HTML object>"
      ]
     },
     "metadata": {},
     "output_type": "display_data"
    },
    {
     "data": {
      "text/html": [
       "\n",
       "<form action=\"javascript:Jupyter.notebook.execute_cell()\"><input type =\"submit\" id=\"runButton\" value=\"Run Cell\"></form>\n"
      ],
      "text/plain": [
       "<IPython.core.display.HTML object>"
      ]
     },
     "metadata": {},
     "output_type": "display_data"
    },
    {
     "name": "stdout",
     "output_type": "stream",
     "text": [
      "Your requests are being processind for submission.\n",
      "{'task_id': 'a7615fe0-1e8a-487f-b154-406f356e2559', 'status': 'pending'}\n",
      "{'task_id': '203cfcaf-f444-42d6-89d3-8777c7a73e0a', 'status': 'pending'}\n",
      "{'task_id': '7f2a0405-1019-41b4-8459-dd2709ee89f7', 'status': 'pending'}\n",
      "{'task_id': '52b02b8b-21a9-4578-82db-9f4923aa05ef', 'status': 'pending'}\n",
      "{'task_id': '4484fd1f-94e0-4db2-87fb-87baf21b989d', 'status': 'pending'}\n",
      "{'task_id': '74184d0b-6ef9-481b-beea-872776768193', 'status': 'pending'}\n",
      "{'task_id': 'd1a48343-3f6b-48b1-8b4e-d3f72d389218', 'status': 'pending'}\n",
      "{'task_id': '31350013-d32f-4bd7-9c16-e3d961145fca', 'status': 'pending'}\n",
      "{'task_id': '25c756f1-0268-4fb7-8f4b-ef52aa33b6e0', 'status': 'pending'}\n",
      "{'task_id': 'e8300c0d-63a2-4169-86b1-28dc9dd9a0b9', 'status': 'pending'}\n",
      "{'task_id': 'e775ec86-9d17-4cd6-899d-0cc39373ff3f', 'status': 'pending'}\n",
      "{'task_id': 'aeaa465c-1eea-4e26-8b87-5c4fbcc600b2', 'status': 'pending'}\n",
      "{'task_id': '5fefdeb7-556e-47ef-ab07-43acff852e1d', 'status': 'pending'}\n",
      "{'task_id': 'dc200a6d-caab-4ecb-9129-90e3cac42591', 'status': 'pending'}\n",
      "{'task_id': '2e7cc17f-cdab-44fc-99ec-28fb4e1fb297', 'status': 'pending'}\n",
      "{'task_id': 'd4521838-e1df-42a1-8e81-5e13c9ea86a2', 'status': 'pending'}\n",
      "{'task_id': '12eda53f-2c82-45c1-a71a-fbf251a75a9c', 'status': 'pending'}\n",
      "{'task_id': '9b231520-281a-4d70-b519-6e206272435a', 'status': 'pending'}\n",
      "{'task_id': '5f388f84-2e8f-4715-81de-c93c8a40973d', 'status': 'pending'}\n",
      "{'task_id': 'b047d095-db52-488b-b2f3-28759bb7fbfd', 'status': 'pending'}\n",
      "{'task_id': '0f759574-2a20-490d-bd2b-1e4d518fdf04', 'status': 'pending'}\n",
      "{'task_id': '641ed65b-7502-4a94-abc1-a87a6ed11484', 'status': 'pending'}\n",
      "{'task_id': '2d843294-4f26-4979-a0fe-051daa973145', 'status': 'pending'}\n",
      "{'task_id': '10d89062-cc69-4c59-9202-2d9061f21337', 'status': 'pending'}\n",
      "{'task_id': 'f2cda7c1-4625-4d23-9498-f5be087a0164', 'status': 'pending'}\n",
      "{'task_id': 'a6d9f116-202d-4ea5-9a7e-be4d87dd2553', 'status': 'pending'}\n",
      "{'task_id': '2bf07272-fd37-477a-9f1f-7655b983f0d1', 'status': 'pending'}\n",
      "{'task_id': 'ad667989-33ae-44da-b0e7-445be7515073', 'status': 'pending'}\n",
      "Your requests are submitted, please check you email to see when they have processed\n"
     ]
    }
   ],
   "source": [
    "hide_code()\n",
    "run_code()\n",
    "\n",
    "\n",
    "if username == \"username\":\n",
    "    print(\"Waiting for inputs.\")\n",
    "else: \n",
    "    api = 'https://lpdaacsvc.cr.usgs.gov/appeears/api/'\n",
    "\n",
    "    ###########################################\n",
    "    #       Prep Coordinates for Request      #\n",
    "    ###########################################\n",
    "    #This code prepares the grid coordinates for\n",
    "    # the request to AppEEARS by creating a grid of lat\n",
    "    #longs and then putting each grid location in a request\n",
    "\n",
    "    #Gets the coorindates form thepreviously downloaded data\n",
    "    for file in glob.glob(r'data/*.nc4'):\n",
    "        #print(file)\n",
    "        data = Dataset(file, 'r')\n",
    "\n",
    "    #Get lat longs\n",
    "    lats = data.variables['Y'][:]\n",
    "    lons = data.variables['X'][:]\n",
    "    #Convert to a grid using numpy\n",
    "    lon, lat = np.meshgrid(lons, lats)\n",
    "    lat_flat = lat.flatten()\n",
    "    lon_flat = lon.flatten()\n",
    "    #Get total area\n",
    "    reqs = len(lons)*len(lats)\n",
    "    #Create a list for requests\n",
    "    coordinates = []\n",
    "    for i in range(reqs):\n",
    "        coordinates.append({\n",
    "            \"id\": str(i),\n",
    "            \"latitude\": str(round(lat_flat[i],4)),\n",
    "            \"longitude\": str(round(lon_flat[i],4))\n",
    "            })\n",
    "\n",
    "    #######################################################\n",
    "    #            Make Requests                            #\n",
    "    ######################################################\n",
    "\n",
    "    response_elevation = requests.post('https://lpdaacsvc.cr.usgs.gov/appeears/api/login', auth=(user_in.value, pass_in.value))\n",
    "    token_response_elevation = response_elevation.json()\n",
    "    #print(token_response_elevation)\n",
    "    token_elevation = token_response_elevation['token']\n",
    "    head = {'Authorization': 'Bearer {}'.format(token_elevation)}\n",
    "    tasks = []\n",
    "    min_reqs = 0\n",
    "    #Max number of requests for AppEEARs\n",
    "    max_reqs =1000\n",
    "    count = 1\n",
    "    print(\"Your requests are being processind for submission.\")\n",
    "    while max_reqs < reqs: \n",
    "        #Loop through to ensure all coordinates collected\n",
    "        if max_reqs//1000 != reqs//1000:\n",
    "            for max_reqs in range(1000,reqs,1000):\n",
    "                task = {\n",
    "                    'task_type': \"point\",\n",
    "                    'task_name': \"elevation_point_request\"+str(count),\n",
    "                    'params': {\n",
    "                         'dates': [\n",
    "                         {\n",
    "                             'startDate': begtime.value,\n",
    "                             'endDate': endtime.value\n",
    "                         }],\n",
    "                         'layers': [{'layer': 'ASTER_GDEM_DEM', 'product': 'ASTGTM_NC.003'}],\n",
    "                         'coordinates': coordinates[min_reqs:max_reqs]\n",
    "                    }\n",
    "                }\n",
    "\n",
    "                task_response = requests.post('{}task'.format(api), json=task, headers=head).json()\n",
    "                tasks.append(task_response)\n",
    "                min_reqs += 1000\n",
    "                count += 1\n",
    "                print(task_response)\n",
    "        #Get the reminder coordinates below max\n",
    "        else: \n",
    "            task = {\n",
    "                    'task_type': \"point\",\n",
    "                    'task_name': \"elevation_point_request_\" +str(count),\n",
    "                    'params': {\n",
    "                         'dates': [\n",
    "                         {\n",
    "                             'startDate': begtime.value,\n",
    "                             'endDate': endtime.value\n",
    "                         }],\n",
    "                         'layers': [{'layer': 'ASTER_GDEM_DEM', 'product': 'ASTGTM_NC.003'}],\n",
    "                         'coordinates': coordinates[max_reqs:-1]\n",
    "                    }\n",
    "             }\n",
    "            max_reqs = reqs\n",
    "            task_response = requests.post('{}task'.format(api), json=task, headers=head).json()\n",
    "            print(task_response)\n",
    "            tasks.append(task_response)\n",
    "\n",
    "    print(\"Your requests are submitted, please check you email to see when they have processed\")\n",
    "\n"
   ]
  },
  {
   "cell_type": "markdown",
   "metadata": {},
   "source": [
    "### Retrieve Complete Requests---It may take awhile before requests are complete."
   ]
  },
  {
   "cell_type": "code",
   "execution_count": 20,
   "metadata": {},
   "outputs": [
    {
     "data": {
      "text/html": [
       "\n",
       "<form action=\"javascript:code_toggle()\"><input type=\"submit\" id=\"toggleButton\" value=\"Hide/Show Code\"></form>\n"
      ],
      "text/plain": [
       "<IPython.core.display.HTML object>"
      ]
     },
     "metadata": {},
     "output_type": "display_data"
    },
    {
     "data": {
      "text/html": [
       "\n",
       "<form action=\"javascript:Jupyter.notebook.execute_cell()\"><input type =\"submit\" id=\"runButton\" value=\"Run Cell\"></form>\n"
      ],
      "text/plain": [
       "<IPython.core.display.HTML object>"
      ]
     },
     "metadata": {},
     "output_type": "display_data"
    },
    {
     "name": "stdout",
     "output_type": "stream",
     "text": [
      "This will provide an update every minute on the status of your requests.\n",
      "processing\n",
      "processing\n",
      "processing\n",
      "processing\n",
      "processing\n",
      "processing\n",
      "processing\n",
      "processing\n",
      "processing\n",
      "processing\n",
      "processing\n",
      "processing\n",
      "processing\n",
      "processing\n",
      "processing\n",
      "processing\n",
      "processing\n",
      "processing\n",
      "processing\n",
      "processing\n",
      "processing\n",
      "processing\n",
      "processing\n",
      "processing\n",
      "processing\n",
      "processing\n",
      "processing\n",
      "processing\n",
      "processing\n",
      "processing\n",
      "processing\n",
      "processing\n",
      "processing\n",
      "processing\n",
      "processing\n",
      "processing\n",
      "processing\n",
      "processing\n",
      "processing\n",
      "processing\n",
      "processing\n",
      "processing\n",
      "processing\n",
      "processing\n",
      "processing\n",
      "processing\n",
      "processing\n",
      "processing\n",
      "processing\n",
      "processing\n",
      "processing\n",
      "processing\n",
      "processing\n",
      "processing\n",
      "processing\n",
      "processing\n",
      "processing\n",
      "processing\n",
      "processing\n",
      "processing\n",
      "processing\n",
      "processing\n",
      "processing\n",
      "processing\n",
      "processing\n",
      "processing\n",
      "processing\n",
      "processing\n",
      "This will provide an update every minute on the status of your requests.\n",
      "processing\n",
      "processing\n",
      "processing\n",
      "This will provide an update every minute on the status of your requests.\n",
      "processing\n",
      "processing\n",
      "processing\n",
      "processing\n",
      "This will provide an update every minute on the status of your requests.\n",
      "processing\n",
      "processing\n",
      "processing\n",
      "processing\n",
      "processing\n",
      "This will provide an update every minute on the status of your requests.\n",
      "This will provide an update every minute on the status of your requests.\n",
      "processing\n",
      "processing\n",
      "processing\n",
      "This will provide an update every minute on the status of your requests.\n",
      "This will provide an update every minute on the status of your requests.\n",
      "processing\n",
      "processing\n",
      "processing\n",
      "processing\n",
      "This will provide an update every minute on the status of your requests.\n",
      "This will provide an update every minute on the status of your requests.\n",
      "processing\n",
      "This will provide an update every minute on the status of your requests.\n",
      "processing\n",
      "processing\n",
      "processing\n",
      "This will provide an update every minute on the status of your requests.\n",
      "processing\n",
      "This will provide an update every minute on the status of your requests.\n",
      "processing\n",
      "This will provide an update every minute on the status of your requests.\n",
      "This will provide an update every minute on the status of your requests.\n",
      "processing\n",
      "processing\n",
      "processing\n",
      "processing\n",
      "This will provide an update every minute on the status of your requests.\n",
      "processing\n",
      "This will provide an update every minute on the status of your requests.\n",
      "processing\n",
      "processing\n",
      "processing\n",
      "This will provide an update every minute on the status of your requests.\n",
      "processing\n",
      "processing\n",
      "This will provide an update every minute on the status of your requests.\n",
      "This will provide an update every minute on the status of your requests.\n",
      "processing\n",
      "processing\n",
      "processing\n",
      "processing\n",
      "processing\n",
      "This will provide an update every minute on the status of your requests.\n",
      "processing\n",
      "This will provide an update every minute on the status of your requests.\n",
      "processing\n",
      "processing\n",
      "This will provide an update every minute on the status of your requests.\n",
      "processing\n",
      "This will provide an update every minute on the status of your requests.\n",
      "processing\n",
      "processing\n",
      "processing\n",
      "processing\n",
      "This will provide an update every minute on the status of your requests.\n",
      "This will provide an update every minute on the status of your requests.\n",
      "processing\n",
      "processing\n",
      "processing\n",
      "processing\n",
      "This will provide an update every minute on the status of your requests.\n",
      "This will provide an update every minute on the status of your requests.\n",
      "The elevation data has been saved as a elevation.csv in you data directory.\n"
     ]
    }
   ],
   "source": [
    "hide_code()\n",
    "run_code()\n",
    "\n",
    "if username == \"username\":\n",
    "    print(\"Waiting for inputs.\")\n",
    "else:\n",
    "    print(\"This will provide an update every minute on the status of your requests.This may take hours\")\n",
    "    #Get request status\n",
    "    for task in tasks: \n",
    "        starttime = time.time()\n",
    "        task_id = task['task_id']\n",
    "        while requests.get('{}task/{}'.format(api, task_id), headers=head).json()['status'] != 'done':\n",
    "                print(task_id, \"is.....\")\n",
    "                print(requests.get('{}task/{}'.format(api, task_id), headers=head).json()['status'])\n",
    "                time.sleep(60.0 - ((time.time() - starttime) % 60.0))\n",
    "            \n",
    "    \n",
    "    #Once requests complete this retrieves the elevation data.  \n",
    "    elevation_data = []\n",
    "    for task in tasks: \n",
    "        task_id = task['task_id'] \n",
    "        bundle = requests.get('{}bundle/{}'.format(api,task_id)).json()  # Call API and return bundle contents for the task_id as json\n",
    "\n",
    "        files = {}                                                       # Create empty dictionary\n",
    "        for f in bundle['files']: \n",
    "            if f[\"file_type\"] == \"csv\":\n",
    "                files[f['file_id']] = f['file_name']   # Fill dictionary with file_id as keys and file_name as values\n",
    "        for f in files: \n",
    "             dl = requests.get('{}bundle/{}/{}'.format(api, task_id, f),stream=True)     \n",
    "        data = dl.content\n",
    "        s=str(data,'utf-8')\n",
    "        data = StringIO(s) \n",
    "        df=pd.read_csv(data)\n",
    "        elevation_data.append(df)\n",
    "    all_elevation = pd.concat(elevation_data)\n",
    "    all_elevation = all_elevation[[\"Latitude\", \"Longitude\", 'ASTGTM_NC_003_ASTER_GDEM_DEM']]\n",
    "    all_elevation = all_elevation.rename(columns={'ASTGTM_NC_003_ASTER_GDEM_DEM':\"Elevation\"})\n",
    "    file = os.path.join(\"data\", \"elevation.csv\") \n",
    "    all_elevation.to_csv(file)\n",
    "    print(\"The elevation data has been saved as a elevation.csv in you data directory.\")\n",
    "    del username\n",
    "    del password\n",
    "    del password_manager\n",
    "    del creds\n",
    "    user_in.value = \"username\"\n",
    "    pass_in.value = \"password\"\n",
    "  "
   ]
  },
  {
   "cell_type": "markdown",
   "metadata": {},
   "source": [
    "## 7. Delete Credentials Double Check\n",
    "\n",
    "If you did not run the entire notebook (i.e. through elevation--previous cell) make sure you run the next cell to delete all your credentials.\n"
   ]
  },
  {
   "cell_type": "code",
   "execution_count": 22,
   "metadata": {},
   "outputs": [
    {
     "data": {
      "text/html": [
       "\n",
       "<form action=\"javascript:code_toggle()\"><input type=\"submit\" id=\"toggleButton\" value=\"Hide/Show Code\"></form>\n"
      ],
      "text/plain": [
       "<IPython.core.display.HTML object>"
      ]
     },
     "metadata": {},
     "output_type": "display_data"
    },
    {
     "data": {
      "text/html": [
       "\n",
       "<form action=\"javascript:Jupyter.notebook.execute_cell()\"><input type =\"submit\" id=\"runButton\" value=\"Run Cell\"></form>\n"
      ],
      "text/plain": [
       "<IPython.core.display.HTML object>"
      ]
     },
     "metadata": {},
     "output_type": "display_data"
    },
    {
     "name": "stdout",
     "output_type": "stream",
     "text": [
      "Username and Password not detected.\n"
     ]
    }
   ],
   "source": [
    "hide_code()\n",
    "run_code()\n",
    "\n",
    "#Rerun deletion up above\n",
    "\n",
    "if user_in.value == \"username\" and pass_in.value == \"password\":\n",
    "    pass\n",
    "    print(\"Username and Password not detected.\")\n",
    "else: \n",
    "    del username\n",
    "    del password\n",
    "    del password_manager\n",
    "    del creds\n",
    "    user_in.value = \"username\"\n",
    "    pass_in.value = \"password\"\n",
    "    print(\"Credentials Deleted\")"
   ]
  },
  {
   "cell_type": "code",
   "execution_count": null,
   "metadata": {},
   "outputs": [],
   "source": []
  }
 ],
 "metadata": {
  "kernelspec": {
   "display_name": "Python 3",
   "language": "python",
   "name": "python3"
  },
  "language_info": {
   "codemirror_mode": {
    "name": "ipython",
    "version": 3
   },
   "file_extension": ".py",
   "mimetype": "text/x-python",
   "name": "python",
   "nbconvert_exporter": "python",
   "pygments_lexer": "ipython3",
   "version": "3.8.6"
  }
 },
 "nbformat": 4,
 "nbformat_minor": 4
}
